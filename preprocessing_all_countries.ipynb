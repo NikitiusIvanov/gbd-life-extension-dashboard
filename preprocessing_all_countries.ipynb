{
  "cells": [
    {
      "cell_type": "markdown",
      "metadata": {
        "id": "view-in-github",
        "colab_type": "text"
      },
      "source": [
        "<a href=\"https://colab.research.google.com/github/NikitiusIvanov/gbd-life-extension-dashboard/blob/main/preprocessing_all_countries.ipynb\" target=\"_parent\"><img src=\"https://colab.research.google.com/assets/colab-badge.svg\" alt=\"Open In Colab\"/></a>"
      ]
    },
    {
      "cell_type": "markdown",
      "source": [
        "This notebook contains preprocessing data for estimation risk factors impact to the life expectancy (https://github.com/NikitiusIvanov/gbd-life-extension-dashboard). \n",
        "\n",
        "All data was taken from \"Global Burden of Disease Study 2019\" results tool (https://vizhub.healthdata.org/gbd-results/).\n",
        "\n",
        "Jupyter notebook witn calculation impact of risk factors into life expectancy: https://drive.google.com/file/d/1bL0Gejz5ZomiBziLsg3Gk-DPYZagBdI9/view?usp=sharing\n",
        "\n",
        "For reproduce data manipulation you can load the same data from gbd site or fork it from my google-drive by link: https://drive.google.com/drive/folders/1B7BqeCXWVJunX0cBBFT4d25W_Yaw62Sh?usp=sharing"
      ],
      "metadata": {
        "id": "Znj6o1ettfU2"
      }
    },
    {
      "cell_type": "markdown",
      "metadata": {
        "id": "3ajH4Ke8pBeS"
      },
      "source": [
        "Imports"
      ]
    },
    {
      "cell_type": "code",
      "source": [
        "from google.colab import drive\n",
        "drive.mount('/content/drive/')"
      ],
      "metadata": {
        "colab": {
          "base_uri": "https://localhost:8080/"
        },
        "id": "giqXoalfpIZB",
        "outputId": "6185004f-ba9c-46d3-83b6-d2a5cb3fd9d8"
      },
      "execution_count": 1,
      "outputs": [
        {
          "output_type": "stream",
          "name": "stdout",
          "text": [
            "Mounted at /content/drive/\n"
          ]
        }
      ]
    },
    {
      "cell_type": "code",
      "source": [
        "cd '/content/drive/MyDrive/gbd-life-expectancy-risk-factors-impact-estimation'"
      ],
      "metadata": {
        "colab": {
          "base_uri": "https://localhost:8080/"
        },
        "id": "AF8bKr6fp7A1",
        "outputId": "1af6f130-a217-4440-e0a3-e6e20b12d426"
      },
      "execution_count": 2,
      "outputs": [
        {
          "output_type": "stream",
          "name": "stdout",
          "text": [
            "/content/drive/MyDrive/gbd-life-expectancy-risk-factors-impact-estimation\n"
          ]
        }
      ]
    },
    {
      "cell_type": "code",
      "execution_count": 3,
      "metadata": {
        "id": "3b3mkBn3pBeW"
      },
      "outputs": [],
      "source": [
        "import numpy as np\n",
        "import pandas as pd\n",
        "import os\n",
        "import tqdm"
      ]
    },
    {
      "cell_type": "markdown",
      "metadata": {
        "id": "AaYTFuelpBeY"
      },
      "source": [
        "load code book"
      ]
    },
    {
      "cell_type": "code",
      "execution_count": 4,
      "metadata": {
        "colab": {
          "base_uri": "https://localhost:8080/",
          "height": 312
        },
        "id": "H2VZOEfkpBeY",
        "outputId": "dc50d7f3-4cbf-444d-ce85-053f3ed6e775"
      },
      "outputs": [
        {
          "output_type": "execute_result",
          "data": {
            "text/plain": [
              "  measure_id                            measure_name location_id  \\\n",
              "1          1                                  Deaths           1   \n",
              "2          2  DALYs (Disability-Adjusted Life Years)       44637   \n",
              "3          3      YLDs (Years Lived with Disability)       44636   \n",
              "\n",
              "    location_name  sex_id sex_label age_group_id  age_group_name cause_id  \\\n",
              "1          Global  Sex ID       Sex            1         Under 5      294   \n",
              "2         Low SDI       1      Male            2  Early Neonatal      295   \n",
              "3  Low-middle SDI       2    Female            3   Late Neonatal      955   \n",
              "\n",
              "                                          cause_name rei_id  \\\n",
              "1                                         All causes    169   \n",
              "2  Communicable, maternal, neonatal, and nutritio...    202   \n",
              "3       HIV/AIDS and sexually transmitted infections    203   \n",
              "\n",
              "                           rei_name metric_id metric_name year_id  val upper  \\\n",
              "1                  All risk factors         1      Number    1990  NaN   NaN   \n",
              "2  Environmental/occupational risks         2     Percent    1991  NaN   NaN   \n",
              "3                  Behavioral risks         3        Rate    1992  NaN   NaN   \n",
              "\n",
              "  lower  \n",
              "1   NaN  \n",
              "2   NaN  \n",
              "3   NaN  "
            ],
            "text/html": [
              "\n",
              "  <div id=\"df-ed6bb85f-4d1a-4ffb-8e22-e5cddb077181\">\n",
              "    <div class=\"colab-df-container\">\n",
              "      <div>\n",
              "<style scoped>\n",
              "    .dataframe tbody tr th:only-of-type {\n",
              "        vertical-align: middle;\n",
              "    }\n",
              "\n",
              "    .dataframe tbody tr th {\n",
              "        vertical-align: top;\n",
              "    }\n",
              "\n",
              "    .dataframe thead th {\n",
              "        text-align: right;\n",
              "    }\n",
              "</style>\n",
              "<table border=\"1\" class=\"dataframe\">\n",
              "  <thead>\n",
              "    <tr style=\"text-align: right;\">\n",
              "      <th></th>\n",
              "      <th>measure_id</th>\n",
              "      <th>measure_name</th>\n",
              "      <th>location_id</th>\n",
              "      <th>location_name</th>\n",
              "      <th>sex_id</th>\n",
              "      <th>sex_label</th>\n",
              "      <th>age_group_id</th>\n",
              "      <th>age_group_name</th>\n",
              "      <th>cause_id</th>\n",
              "      <th>cause_name</th>\n",
              "      <th>rei_id</th>\n",
              "      <th>rei_name</th>\n",
              "      <th>metric_id</th>\n",
              "      <th>metric_name</th>\n",
              "      <th>year_id</th>\n",
              "      <th>val</th>\n",
              "      <th>upper</th>\n",
              "      <th>lower</th>\n",
              "    </tr>\n",
              "  </thead>\n",
              "  <tbody>\n",
              "    <tr>\n",
              "      <th>1</th>\n",
              "      <td>1</td>\n",
              "      <td>Deaths</td>\n",
              "      <td>1</td>\n",
              "      <td>Global</td>\n",
              "      <td>Sex ID</td>\n",
              "      <td>Sex</td>\n",
              "      <td>1</td>\n",
              "      <td>Under 5</td>\n",
              "      <td>294</td>\n",
              "      <td>All causes</td>\n",
              "      <td>169</td>\n",
              "      <td>All risk factors</td>\n",
              "      <td>1</td>\n",
              "      <td>Number</td>\n",
              "      <td>1990</td>\n",
              "      <td>NaN</td>\n",
              "      <td>NaN</td>\n",
              "      <td>NaN</td>\n",
              "    </tr>\n",
              "    <tr>\n",
              "      <th>2</th>\n",
              "      <td>2</td>\n",
              "      <td>DALYs (Disability-Adjusted Life Years)</td>\n",
              "      <td>44637</td>\n",
              "      <td>Low SDI</td>\n",
              "      <td>1</td>\n",
              "      <td>Male</td>\n",
              "      <td>2</td>\n",
              "      <td>Early Neonatal</td>\n",
              "      <td>295</td>\n",
              "      <td>Communicable, maternal, neonatal, and nutritio...</td>\n",
              "      <td>202</td>\n",
              "      <td>Environmental/occupational risks</td>\n",
              "      <td>2</td>\n",
              "      <td>Percent</td>\n",
              "      <td>1991</td>\n",
              "      <td>NaN</td>\n",
              "      <td>NaN</td>\n",
              "      <td>NaN</td>\n",
              "    </tr>\n",
              "    <tr>\n",
              "      <th>3</th>\n",
              "      <td>3</td>\n",
              "      <td>YLDs (Years Lived with Disability)</td>\n",
              "      <td>44636</td>\n",
              "      <td>Low-middle SDI</td>\n",
              "      <td>2</td>\n",
              "      <td>Female</td>\n",
              "      <td>3</td>\n",
              "      <td>Late Neonatal</td>\n",
              "      <td>955</td>\n",
              "      <td>HIV/AIDS and sexually transmitted infections</td>\n",
              "      <td>203</td>\n",
              "      <td>Behavioral risks</td>\n",
              "      <td>3</td>\n",
              "      <td>Rate</td>\n",
              "      <td>1992</td>\n",
              "      <td>NaN</td>\n",
              "      <td>NaN</td>\n",
              "      <td>NaN</td>\n",
              "    </tr>\n",
              "  </tbody>\n",
              "</table>\n",
              "</div>\n",
              "      <button class=\"colab-df-convert\" onclick=\"convertToInteractive('df-ed6bb85f-4d1a-4ffb-8e22-e5cddb077181')\"\n",
              "              title=\"Convert this dataframe to an interactive table.\"\n",
              "              style=\"display:none;\">\n",
              "        \n",
              "  <svg xmlns=\"http://www.w3.org/2000/svg\" height=\"24px\"viewBox=\"0 0 24 24\"\n",
              "       width=\"24px\">\n",
              "    <path d=\"M0 0h24v24H0V0z\" fill=\"none\"/>\n",
              "    <path d=\"M18.56 5.44l.94 2.06.94-2.06 2.06-.94-2.06-.94-.94-2.06-.94 2.06-2.06.94zm-11 1L8.5 8.5l.94-2.06 2.06-.94-2.06-.94L8.5 2.5l-.94 2.06-2.06.94zm10 10l.94 2.06.94-2.06 2.06-.94-2.06-.94-.94-2.06-.94 2.06-2.06.94z\"/><path d=\"M17.41 7.96l-1.37-1.37c-.4-.4-.92-.59-1.43-.59-.52 0-1.04.2-1.43.59L10.3 9.45l-7.72 7.72c-.78.78-.78 2.05 0 2.83L4 21.41c.39.39.9.59 1.41.59.51 0 1.02-.2 1.41-.59l7.78-7.78 2.81-2.81c.8-.78.8-2.07 0-2.86zM5.41 20L4 18.59l7.72-7.72 1.47 1.35L5.41 20z\"/>\n",
              "  </svg>\n",
              "      </button>\n",
              "      \n",
              "  <style>\n",
              "    .colab-df-container {\n",
              "      display:flex;\n",
              "      flex-wrap:wrap;\n",
              "      gap: 12px;\n",
              "    }\n",
              "\n",
              "    .colab-df-convert {\n",
              "      background-color: #E8F0FE;\n",
              "      border: none;\n",
              "      border-radius: 50%;\n",
              "      cursor: pointer;\n",
              "      display: none;\n",
              "      fill: #1967D2;\n",
              "      height: 32px;\n",
              "      padding: 0 0 0 0;\n",
              "      width: 32px;\n",
              "    }\n",
              "\n",
              "    .colab-df-convert:hover {\n",
              "      background-color: #E2EBFA;\n",
              "      box-shadow: 0px 1px 2px rgba(60, 64, 67, 0.3), 0px 1px 3px 1px rgba(60, 64, 67, 0.15);\n",
              "      fill: #174EA6;\n",
              "    }\n",
              "\n",
              "    [theme=dark] .colab-df-convert {\n",
              "      background-color: #3B4455;\n",
              "      fill: #D2E3FC;\n",
              "    }\n",
              "\n",
              "    [theme=dark] .colab-df-convert:hover {\n",
              "      background-color: #434B5C;\n",
              "      box-shadow: 0px 1px 3px 1px rgba(0, 0, 0, 0.15);\n",
              "      filter: drop-shadow(0px 1px 2px rgba(0, 0, 0, 0.3));\n",
              "      fill: #FFFFFF;\n",
              "    }\n",
              "  </style>\n",
              "\n",
              "      <script>\n",
              "        const buttonEl =\n",
              "          document.querySelector('#df-ed6bb85f-4d1a-4ffb-8e22-e5cddb077181 button.colab-df-convert');\n",
              "        buttonEl.style.display =\n",
              "          google.colab.kernel.accessAllowed ? 'block' : 'none';\n",
              "\n",
              "        async function convertToInteractive(key) {\n",
              "          const element = document.querySelector('#df-ed6bb85f-4d1a-4ffb-8e22-e5cddb077181');\n",
              "          const dataTable =\n",
              "            await google.colab.kernel.invokeFunction('convertToInteractive',\n",
              "                                                     [key], {});\n",
              "          if (!dataTable) return;\n",
              "\n",
              "          const docLinkHtml = 'Like what you see? Visit the ' +\n",
              "            '<a target=\"_blank\" href=https://colab.research.google.com/notebooks/data_table.ipynb>data table notebook</a>'\n",
              "            + ' to learn more about interactive tables.';\n",
              "          element.innerHTML = '';\n",
              "          dataTable['output_type'] = 'display_data';\n",
              "          await google.colab.output.renderOutput(dataTable, element);\n",
              "          const docLink = document.createElement('div');\n",
              "          docLink.innerHTML = docLinkHtml;\n",
              "          element.appendChild(docLink);\n",
              "        }\n",
              "      </script>\n",
              "    </div>\n",
              "  </div>\n",
              "  "
            ]
          },
          "metadata": {},
          "execution_count": 4
        }
      ],
      "source": [
        "code_book = pd.read_csv(\n",
        "    os.path.join(\n",
        "        'data',\n",
        "        'coode_book','IHME_GBD_2019_CODEBOOK_Y2022M06D29.CSV'\n",
        "    )\n",
        ").iloc[1:, 1:]\n",
        "\n",
        "code_book.head(3)"
      ]
    },
    {
      "cell_type": "code",
      "execution_count": null,
      "metadata": {
        "id": "L-w6n1iipBeZ"
      },
      "outputs": [],
      "source": [
        "measure_name_to_id = { # create mappings\n",
        "    key: value \n",
        "    for key, value in code_book[['measure_name', 'measure_id']].dropna().values\n",
        "}\n",
        "\n",
        "metric_name_to_id = {\n",
        "    key: value \n",
        "    for key, value in code_book[['metric_name', 'metric_id']].dropna().values\n",
        "}\n",
        "\n",
        "sex_name_to_id = {\n",
        "    key: value \n",
        "    for key, value in code_book[['sex_label', 'sex_id']].dropna().values\n",
        "}\n",
        "\n",
        "age_name_to_id = {\n",
        "    key: value \n",
        "    for key, value in code_book[['age_group_name', 'age_group_id']].dropna().values\n",
        "}\n",
        "\n",
        "cause_name_to_id = {\n",
        "    key: value \n",
        "    for key, value in code_book[['cause_name', 'cause_id']].dropna().values\n",
        "}\n",
        "\n",
        "risks_name_to_id = {\n",
        "    key: value \n",
        "    for key, value in code_book[['rei_name', 'rei_id']].dropna().values\n",
        "}\n",
        "\n",
        "location_name_to_id = {\n",
        "    key: value \n",
        "    for key, value in code_book[['location_name', 'location_id']].dropna().values\n",
        "}\n",
        "\n",
        "name_to_id_mappings: dict = {\n",
        "    'measure_id' :measure_name_to_id,\n",
        "    'metric_id' :metric_name_to_id,\n",
        "    'sex_id' :sex_name_to_id,\n",
        "    'age_id' :age_name_to_id,\n",
        "    'cause_id' :cause_name_to_id,\n",
        "    'risks_id' :risks_name_to_id,\n",
        "    'location_id' :location_name_to_id,\n",
        "}"
      ]
    },
    {
      "cell_type": "markdown",
      "metadata": {
        "id": "bcRmwrdkpBea"
      },
      "source": [
        "Utilite functions"
      ]
    },
    {
      "cell_type": "code",
      "execution_count": null,
      "metadata": {
        "id": "77uJ6IGCpBeb"
      },
      "outputs": [],
      "source": [
        "def find_name_by_fragment_in_id_mapping(\n",
        "    name_to_id_dict: dict,\n",
        "    fragment: str\n",
        ") -> list:\n",
        "    result = [x for x in name_to_id_dict.keys() if fragment.lower() in x.lower()]\n",
        "    return result"
      ]
    },
    {
      "cell_type": "code",
      "execution_count": null,
      "metadata": {
        "id": "y7cF-lG0pBec"
      },
      "outputs": [],
      "source": [
        "def add_names_columns_by_ids(\n",
        "    df: pd.DataFrame,\n",
        "    name_to_id_mappings: dict = {\n",
        "        'measure_id' :measure_name_to_id,\n",
        "        'metric_id' :metric_name_to_id,\n",
        "        'sex_id' :sex_name_to_id,\n",
        "        'age_id' :age_name_to_id,\n",
        "        'cause_id' :cause_name_to_id,\n",
        "        'risks_id' :risks_name_to_id,\n",
        "        'location_id' :location_name_to_id,\n",
        "    },\n",
        ") -> pd.DataFrame:\n",
        "    result = df.copy()\n",
        "    for column in set(result.columns).intersection(set(name_to_id_mappings.keys())):\n",
        "        result[column.replace('_id', '_name')] = (\n",
        "            df[column]\n",
        "            .astype('str')\n",
        "            .map({key: value for value, key in name_to_id_mappings[column].items()})\n",
        "        )\n",
        "    return result"
      ]
    },
    {
      "cell_type": "markdown",
      "metadata": {
        "id": "SMkkZwiGpBed"
      },
      "source": [
        "load causes and risks ierarchy"
      ]
    },
    {
      "cell_type": "code",
      "execution_count": 6,
      "metadata": {
        "id": "efFCVVOepBee"
      },
      "outputs": [],
      "source": [
        "causes_ierarchy = pd.read_csv(\n",
        "    os.path.join('data','coode_book','IHME_GBD_2019_CAUSE_HIERARCHY_Y2020M11D25.csv')\n",
        ")\n",
        "\n",
        "causes_ierarchy.columns = [x.lower().replace(' ', '_') for x in causes_ierarchy.columns]"
      ]
    },
    {
      "cell_type": "code",
      "execution_count": 7,
      "metadata": {
        "colab": {
          "base_uri": "https://localhost:8080/",
          "height": 222
        },
        "id": "qnwI2N9OpBee",
        "outputId": "dc565a2c-e83e-4781-94ce-f0e72be41a44"
      },
      "outputs": [
        {
          "output_type": "execute_result",
          "data": {
            "text/plain": [
              "   cause_id                                         cause_name  parent_id  \\\n",
              "0       294                                         All causes        294   \n",
              "1       295  Communicable, maternal, neonatal, and nutritio...        294   \n",
              "2       955       HIV/AIDS and sexually transmitted infections        295   \n",
              "\n",
              "                                         parent_name  level cause_outline  \\\n",
              "0                                         All causes      0         Total   \n",
              "1                                         All causes      1             A   \n",
              "2  Communicable, maternal, neonatal, and nutritio...      2           A.1   \n",
              "\n",
              "   sort_order yll_only yld_only  \n",
              "0           1      NaN      NaN  \n",
              "1           2      NaN      NaN  \n",
              "2           3      NaN      NaN  "
            ],
            "text/html": [
              "\n",
              "  <div id=\"df-428c3150-6c1f-43c5-b94b-6582dabead7c\">\n",
              "    <div class=\"colab-df-container\">\n",
              "      <div>\n",
              "<style scoped>\n",
              "    .dataframe tbody tr th:only-of-type {\n",
              "        vertical-align: middle;\n",
              "    }\n",
              "\n",
              "    .dataframe tbody tr th {\n",
              "        vertical-align: top;\n",
              "    }\n",
              "\n",
              "    .dataframe thead th {\n",
              "        text-align: right;\n",
              "    }\n",
              "</style>\n",
              "<table border=\"1\" class=\"dataframe\">\n",
              "  <thead>\n",
              "    <tr style=\"text-align: right;\">\n",
              "      <th></th>\n",
              "      <th>cause_id</th>\n",
              "      <th>cause_name</th>\n",
              "      <th>parent_id</th>\n",
              "      <th>parent_name</th>\n",
              "      <th>level</th>\n",
              "      <th>cause_outline</th>\n",
              "      <th>sort_order</th>\n",
              "      <th>yll_only</th>\n",
              "      <th>yld_only</th>\n",
              "    </tr>\n",
              "  </thead>\n",
              "  <tbody>\n",
              "    <tr>\n",
              "      <th>0</th>\n",
              "      <td>294</td>\n",
              "      <td>All causes</td>\n",
              "      <td>294</td>\n",
              "      <td>All causes</td>\n",
              "      <td>0</td>\n",
              "      <td>Total</td>\n",
              "      <td>1</td>\n",
              "      <td>NaN</td>\n",
              "      <td>NaN</td>\n",
              "    </tr>\n",
              "    <tr>\n",
              "      <th>1</th>\n",
              "      <td>295</td>\n",
              "      <td>Communicable, maternal, neonatal, and nutritio...</td>\n",
              "      <td>294</td>\n",
              "      <td>All causes</td>\n",
              "      <td>1</td>\n",
              "      <td>A</td>\n",
              "      <td>2</td>\n",
              "      <td>NaN</td>\n",
              "      <td>NaN</td>\n",
              "    </tr>\n",
              "    <tr>\n",
              "      <th>2</th>\n",
              "      <td>955</td>\n",
              "      <td>HIV/AIDS and sexually transmitted infections</td>\n",
              "      <td>295</td>\n",
              "      <td>Communicable, maternal, neonatal, and nutritio...</td>\n",
              "      <td>2</td>\n",
              "      <td>A.1</td>\n",
              "      <td>3</td>\n",
              "      <td>NaN</td>\n",
              "      <td>NaN</td>\n",
              "    </tr>\n",
              "  </tbody>\n",
              "</table>\n",
              "</div>\n",
              "      <button class=\"colab-df-convert\" onclick=\"convertToInteractive('df-428c3150-6c1f-43c5-b94b-6582dabead7c')\"\n",
              "              title=\"Convert this dataframe to an interactive table.\"\n",
              "              style=\"display:none;\">\n",
              "        \n",
              "  <svg xmlns=\"http://www.w3.org/2000/svg\" height=\"24px\"viewBox=\"0 0 24 24\"\n",
              "       width=\"24px\">\n",
              "    <path d=\"M0 0h24v24H0V0z\" fill=\"none\"/>\n",
              "    <path d=\"M18.56 5.44l.94 2.06.94-2.06 2.06-.94-2.06-.94-.94-2.06-.94 2.06-2.06.94zm-11 1L8.5 8.5l.94-2.06 2.06-.94-2.06-.94L8.5 2.5l-.94 2.06-2.06.94zm10 10l.94 2.06.94-2.06 2.06-.94-2.06-.94-.94-2.06-.94 2.06-2.06.94z\"/><path d=\"M17.41 7.96l-1.37-1.37c-.4-.4-.92-.59-1.43-.59-.52 0-1.04.2-1.43.59L10.3 9.45l-7.72 7.72c-.78.78-.78 2.05 0 2.83L4 21.41c.39.39.9.59 1.41.59.51 0 1.02-.2 1.41-.59l7.78-7.78 2.81-2.81c.8-.78.8-2.07 0-2.86zM5.41 20L4 18.59l7.72-7.72 1.47 1.35L5.41 20z\"/>\n",
              "  </svg>\n",
              "      </button>\n",
              "      \n",
              "  <style>\n",
              "    .colab-df-container {\n",
              "      display:flex;\n",
              "      flex-wrap:wrap;\n",
              "      gap: 12px;\n",
              "    }\n",
              "\n",
              "    .colab-df-convert {\n",
              "      background-color: #E8F0FE;\n",
              "      border: none;\n",
              "      border-radius: 50%;\n",
              "      cursor: pointer;\n",
              "      display: none;\n",
              "      fill: #1967D2;\n",
              "      height: 32px;\n",
              "      padding: 0 0 0 0;\n",
              "      width: 32px;\n",
              "    }\n",
              "\n",
              "    .colab-df-convert:hover {\n",
              "      background-color: #E2EBFA;\n",
              "      box-shadow: 0px 1px 2px rgba(60, 64, 67, 0.3), 0px 1px 3px 1px rgba(60, 64, 67, 0.15);\n",
              "      fill: #174EA6;\n",
              "    }\n",
              "\n",
              "    [theme=dark] .colab-df-convert {\n",
              "      background-color: #3B4455;\n",
              "      fill: #D2E3FC;\n",
              "    }\n",
              "\n",
              "    [theme=dark] .colab-df-convert:hover {\n",
              "      background-color: #434B5C;\n",
              "      box-shadow: 0px 1px 3px 1px rgba(0, 0, 0, 0.15);\n",
              "      filter: drop-shadow(0px 1px 2px rgba(0, 0, 0, 0.3));\n",
              "      fill: #FFFFFF;\n",
              "    }\n",
              "  </style>\n",
              "\n",
              "      <script>\n",
              "        const buttonEl =\n",
              "          document.querySelector('#df-428c3150-6c1f-43c5-b94b-6582dabead7c button.colab-df-convert');\n",
              "        buttonEl.style.display =\n",
              "          google.colab.kernel.accessAllowed ? 'block' : 'none';\n",
              "\n",
              "        async function convertToInteractive(key) {\n",
              "          const element = document.querySelector('#df-428c3150-6c1f-43c5-b94b-6582dabead7c');\n",
              "          const dataTable =\n",
              "            await google.colab.kernel.invokeFunction('convertToInteractive',\n",
              "                                                     [key], {});\n",
              "          if (!dataTable) return;\n",
              "\n",
              "          const docLinkHtml = 'Like what you see? Visit the ' +\n",
              "            '<a target=\"_blank\" href=https://colab.research.google.com/notebooks/data_table.ipynb>data table notebook</a>'\n",
              "            + ' to learn more about interactive tables.';\n",
              "          element.innerHTML = '';\n",
              "          dataTable['output_type'] = 'display_data';\n",
              "          await google.colab.output.renderOutput(dataTable, element);\n",
              "          const docLink = document.createElement('div');\n",
              "          docLink.innerHTML = docLinkHtml;\n",
              "          element.appendChild(docLink);\n",
              "        }\n",
              "      </script>\n",
              "    </div>\n",
              "  </div>\n",
              "  "
            ]
          },
          "metadata": {},
          "execution_count": 7
        }
      ],
      "source": [
        "causes_ierarchy.head(3)"
      ]
    },
    {
      "cell_type": "code",
      "execution_count": 8,
      "metadata": {
        "colab": {
          "base_uri": "https://localhost:8080/",
          "height": 143
        },
        "id": "_QK64EnIpBef",
        "outputId": "100e5ec9-73d7-48ba-914f-a9d4553e8bb7"
      },
      "outputs": [
        {
          "output_type": "execute_result",
          "data": {
            "text/plain": [
              "   rei_id                          rei_name  parent_id       parent_name  \\\n",
              "0     169                  All risk factors        169  All risk factors   \n",
              "1     202  Environmental/occupational risks        169  All risk factors   \n",
              "2     203                  Behavioral risks        169  All risk factors   \n",
              "\n",
              "   level  sort_order  \n",
              "0      0         1.0  \n",
              "1      1         2.0  \n",
              "2      1         3.0  "
            ],
            "text/html": [
              "\n",
              "  <div id=\"df-14e5c7f3-04ca-4b4a-a6ef-4f515b623aba\">\n",
              "    <div class=\"colab-df-container\">\n",
              "      <div>\n",
              "<style scoped>\n",
              "    .dataframe tbody tr th:only-of-type {\n",
              "        vertical-align: middle;\n",
              "    }\n",
              "\n",
              "    .dataframe tbody tr th {\n",
              "        vertical-align: top;\n",
              "    }\n",
              "\n",
              "    .dataframe thead th {\n",
              "        text-align: right;\n",
              "    }\n",
              "</style>\n",
              "<table border=\"1\" class=\"dataframe\">\n",
              "  <thead>\n",
              "    <tr style=\"text-align: right;\">\n",
              "      <th></th>\n",
              "      <th>rei_id</th>\n",
              "      <th>rei_name</th>\n",
              "      <th>parent_id</th>\n",
              "      <th>parent_name</th>\n",
              "      <th>level</th>\n",
              "      <th>sort_order</th>\n",
              "    </tr>\n",
              "  </thead>\n",
              "  <tbody>\n",
              "    <tr>\n",
              "      <th>0</th>\n",
              "      <td>169</td>\n",
              "      <td>All risk factors</td>\n",
              "      <td>169</td>\n",
              "      <td>All risk factors</td>\n",
              "      <td>0</td>\n",
              "      <td>1.0</td>\n",
              "    </tr>\n",
              "    <tr>\n",
              "      <th>1</th>\n",
              "      <td>202</td>\n",
              "      <td>Environmental/occupational risks</td>\n",
              "      <td>169</td>\n",
              "      <td>All risk factors</td>\n",
              "      <td>1</td>\n",
              "      <td>2.0</td>\n",
              "    </tr>\n",
              "    <tr>\n",
              "      <th>2</th>\n",
              "      <td>203</td>\n",
              "      <td>Behavioral risks</td>\n",
              "      <td>169</td>\n",
              "      <td>All risk factors</td>\n",
              "      <td>1</td>\n",
              "      <td>3.0</td>\n",
              "    </tr>\n",
              "  </tbody>\n",
              "</table>\n",
              "</div>\n",
              "      <button class=\"colab-df-convert\" onclick=\"convertToInteractive('df-14e5c7f3-04ca-4b4a-a6ef-4f515b623aba')\"\n",
              "              title=\"Convert this dataframe to an interactive table.\"\n",
              "              style=\"display:none;\">\n",
              "        \n",
              "  <svg xmlns=\"http://www.w3.org/2000/svg\" height=\"24px\"viewBox=\"0 0 24 24\"\n",
              "       width=\"24px\">\n",
              "    <path d=\"M0 0h24v24H0V0z\" fill=\"none\"/>\n",
              "    <path d=\"M18.56 5.44l.94 2.06.94-2.06 2.06-.94-2.06-.94-.94-2.06-.94 2.06-2.06.94zm-11 1L8.5 8.5l.94-2.06 2.06-.94-2.06-.94L8.5 2.5l-.94 2.06-2.06.94zm10 10l.94 2.06.94-2.06 2.06-.94-2.06-.94-.94-2.06-.94 2.06-2.06.94z\"/><path d=\"M17.41 7.96l-1.37-1.37c-.4-.4-.92-.59-1.43-.59-.52 0-1.04.2-1.43.59L10.3 9.45l-7.72 7.72c-.78.78-.78 2.05 0 2.83L4 21.41c.39.39.9.59 1.41.59.51 0 1.02-.2 1.41-.59l7.78-7.78 2.81-2.81c.8-.78.8-2.07 0-2.86zM5.41 20L4 18.59l7.72-7.72 1.47 1.35L5.41 20z\"/>\n",
              "  </svg>\n",
              "      </button>\n",
              "      \n",
              "  <style>\n",
              "    .colab-df-container {\n",
              "      display:flex;\n",
              "      flex-wrap:wrap;\n",
              "      gap: 12px;\n",
              "    }\n",
              "\n",
              "    .colab-df-convert {\n",
              "      background-color: #E8F0FE;\n",
              "      border: none;\n",
              "      border-radius: 50%;\n",
              "      cursor: pointer;\n",
              "      display: none;\n",
              "      fill: #1967D2;\n",
              "      height: 32px;\n",
              "      padding: 0 0 0 0;\n",
              "      width: 32px;\n",
              "    }\n",
              "\n",
              "    .colab-df-convert:hover {\n",
              "      background-color: #E2EBFA;\n",
              "      box-shadow: 0px 1px 2px rgba(60, 64, 67, 0.3), 0px 1px 3px 1px rgba(60, 64, 67, 0.15);\n",
              "      fill: #174EA6;\n",
              "    }\n",
              "\n",
              "    [theme=dark] .colab-df-convert {\n",
              "      background-color: #3B4455;\n",
              "      fill: #D2E3FC;\n",
              "    }\n",
              "\n",
              "    [theme=dark] .colab-df-convert:hover {\n",
              "      background-color: #434B5C;\n",
              "      box-shadow: 0px 1px 3px 1px rgba(0, 0, 0, 0.15);\n",
              "      filter: drop-shadow(0px 1px 2px rgba(0, 0, 0, 0.3));\n",
              "      fill: #FFFFFF;\n",
              "    }\n",
              "  </style>\n",
              "\n",
              "      <script>\n",
              "        const buttonEl =\n",
              "          document.querySelector('#df-14e5c7f3-04ca-4b4a-a6ef-4f515b623aba button.colab-df-convert');\n",
              "        buttonEl.style.display =\n",
              "          google.colab.kernel.accessAllowed ? 'block' : 'none';\n",
              "\n",
              "        async function convertToInteractive(key) {\n",
              "          const element = document.querySelector('#df-14e5c7f3-04ca-4b4a-a6ef-4f515b623aba');\n",
              "          const dataTable =\n",
              "            await google.colab.kernel.invokeFunction('convertToInteractive',\n",
              "                                                     [key], {});\n",
              "          if (!dataTable) return;\n",
              "\n",
              "          const docLinkHtml = 'Like what you see? Visit the ' +\n",
              "            '<a target=\"_blank\" href=https://colab.research.google.com/notebooks/data_table.ipynb>data table notebook</a>'\n",
              "            + ' to learn more about interactive tables.';\n",
              "          element.innerHTML = '';\n",
              "          dataTable['output_type'] = 'display_data';\n",
              "          await google.colab.output.renderOutput(dataTable, element);\n",
              "          const docLink = document.createElement('div');\n",
              "          docLink.innerHTML = docLinkHtml;\n",
              "          element.appendChild(docLink);\n",
              "        }\n",
              "      </script>\n",
              "    </div>\n",
              "  </div>\n",
              "  "
            ]
          },
          "metadata": {},
          "execution_count": 8
        }
      ],
      "source": [
        "risks_ierarchy = pd.read_csv(\n",
        "    os.path.join('data', 'coode_book', 'IHME_GBD_2019_REI_HIERARCHY_Y2020M10D15.csv')\n",
        ")\n",
        "\n",
        "risks_ierarchy.columns = [x.lower().replace(' ', '_') for x in risks_ierarchy.columns]\n",
        "\n",
        "risks_ierarchy.head(3)"
      ]
    },
    {
      "cell_type": "markdown",
      "metadata": {
        "id": "6LEIug52pBef"
      },
      "source": [
        "## load mortality (age, sex, cause specific)"
      ]
    },
    {
      "cell_type": "code",
      "execution_count": 9,
      "metadata": {
        "colab": {
          "base_uri": "https://localhost:8080/"
        },
        "id": "C7N0dDmlpBef",
        "outputId": "d573dd34-ece4-467d-cdc0-a8ed2cab7946"
      },
      "outputs": [
        {
          "output_type": "execute_result",
          "data": {
            "text/plain": [
              "['data/causes/IHME-GBD_2019_DATA-f7db7ce2-3/IHME-GBD_2019_DATA-f7db7ce2-3.csv',\n",
              " 'data/causes/IHME-GBD_2019_DATA-f7db7ce2-2/IHME-GBD_2019_DATA-f7db7ce2-2.csv',\n",
              " 'data/causes/IHME-GBD_2019_DATA-f7db7ce2-1/IHME-GBD_2019_DATA-f7db7ce2-1.csv']"
            ]
          },
          "metadata": {},
          "execution_count": 9
        }
      ],
      "source": [
        "causes_all_countries_2019_paths = [x for x in os.walk(os.path.join('data', 'causes'))]\n",
        "\n",
        "file_paths = []\n",
        "\n",
        "for folder in causes_all_countries_2019_paths:\n",
        "    for file_name in folder[2]:\n",
        "        if '.csv' in file_name:\n",
        "            file_paths.append(os.path.join(folder[0], file_name))\n",
        "\n",
        "file_paths"
      ]
    },
    {
      "cell_type": "code",
      "execution_count": null,
      "metadata": {
        "id": "SUV5DVhlpBeg"
      },
      "outputs": [],
      "source": [
        "causes_all_countries_2019 = pd.concat([pd.read_csv(x) for x in file_paths], axis=0)"
      ]
    },
    {
      "cell_type": "code",
      "execution_count": null,
      "metadata": {
        "id": "pasCEuvQpBeg"
      },
      "outputs": [],
      "source": [
        "causes_all_countries_2019_source = causes_all_countries_2019.copy()"
      ]
    },
    {
      "cell_type": "code",
      "execution_count": null,
      "metadata": {
        "id": "tinpWE9ppBeg",
        "outputId": "6395d720-bace-4777-e6ed-6988106b1978"
      },
      "outputs": [
        {
          "data": {
            "text/plain": [
              "Index(['measure_id', 'measure_name', 'location_id', 'location_name', 'sex_id',\n",
              "       'sex_name', 'age_id', 'age_name', 'cause_id', 'cause_name', 'metric_id',\n",
              "       'metric_name', 'year', 'val', 'upper', 'lower'],\n",
              "      dtype='object')"
            ]
          },
          "execution_count": 37,
          "metadata": {},
          "output_type": "execute_result"
        }
      ],
      "source": [
        "causes_all_countries_2019.columns"
      ]
    },
    {
      "cell_type": "code",
      "execution_count": null,
      "metadata": {
        "id": "iqN5UUarpBeh",
        "outputId": "6cb17e49-172c-4c29-a249-56ae9d474abe"
      },
      "outputs": [
        {
          "name": "stdout",
          "output_type": "stream",
          "text": [
            "measure_id 1\n",
            "measure_name 1\n",
            "location_id 204\n",
            "location_name 204\n",
            "sex_id 2\n",
            "sex_name 2\n",
            "age_id 21\n",
            "age_name 21\n",
            "cause_id 134\n",
            "cause_name 134\n",
            "metric_id 1\n",
            "metric_name 1\n",
            "year 1\n",
            "val 941970\n",
            "upper 941320\n",
            "lower 909977\n"
          ]
        }
      ],
      "source": [
        "for column in causes_all_countries_2019.columns:\n",
        "    print(column, causes_all_countries_2019[column].unique().shape[0])"
      ]
    },
    {
      "cell_type": "code",
      "execution_count": null,
      "metadata": {
        "id": "z7MNzbBSpBeh",
        "outputId": "03031e39-6f2a-401d-9e57-e84db33c469a"
      },
      "outputs": [
        {
          "data": {
            "text/plain": [
              "array(['All causes'], dtype=object)"
            ]
          },
          "execution_count": 16,
          "metadata": {},
          "output_type": "execute_result"
        }
      ],
      "source": [
        "causes_all_countries_2019.cause_name[causes_all_countries_2019.cause_name.str.contains('All')].unique()"
      ]
    },
    {
      "cell_type": "code",
      "execution_count": null,
      "metadata": {
        "id": "q7p41WsppBeh"
      },
      "outputs": [],
      "source": [
        "# del the sumarry term\n",
        "causes_all_countries_2019 = causes_all_countries_2019.copy().query('cause_name != \"All causes\"')"
      ]
    },
    {
      "cell_type": "markdown",
      "metadata": {
        "id": "s_spzmCkpBei"
      },
      "source": [
        "## load risks factors attributed mortality (age, sex, cause, risk specific)"
      ]
    },
    {
      "cell_type": "code",
      "execution_count": 10,
      "metadata": {
        "colab": {
          "base_uri": "https://localhost:8080/"
        },
        "id": "NdxRAKbmpBei",
        "outputId": "59eaa1a6-471a-48fe-aa0d-e0b05424739e"
      },
      "outputs": [
        {
          "output_type": "execute_result",
          "data": {
            "text/plain": [
              "['data/risk_factors/IHME-GBD_2019_DATA-53fb5bb6-5/IHME-GBD_2019_DATA-53fb5bb6-5.csv',\n",
              " 'data/risk_factors/IHME-GBD_2019_DATA-53fb5bb6-2/IHME-GBD_2019_DATA-53fb5bb6-2.csv',\n",
              " 'data/risk_factors/IHME-GBD_2019_DATA-53fb5bb6-4/IHME-GBD_2019_DATA-53fb5bb6-4.csv',\n",
              " 'data/risk_factors/IHME-GBD_2019_DATA-53fb5bb6-1/IHME-GBD_2019_DATA-53fb5bb6-1.csv',\n",
              " 'data/risk_factors/IHME-GBD_2019_DATA-53fb5bb6-6/IHME-GBD_2019_DATA-53fb5bb6-6.csv',\n",
              " 'data/risk_factors/IHME-GBD_2019_DATA-53fb5bb6-3/IHME-GBD_2019_DATA-53fb5bb6-3.csv']"
            ]
          },
          "metadata": {},
          "execution_count": 10
        }
      ],
      "source": [
        "risk_all_countries_2019_paths = [x for x in os.walk(os.path.join('data', 'risk_factors'))]\n",
        "\n",
        "file_paths = []\n",
        "\n",
        "for folder in risk_all_countries_2019_paths:\n",
        "    for file_name in folder[2]:\n",
        "        if '.csv' in file_name:\n",
        "            file_paths.append(os.path.join(folder[0], file_name))\n",
        "\n",
        "file_paths"
      ]
    },
    {
      "cell_type": "code",
      "execution_count": null,
      "metadata": {
        "id": "HkBAcxUtpBei"
      },
      "outputs": [],
      "source": [
        "risk_all_countries_2019 = pd.concat([pd.read_csv(x) for x in file_paths], axis=0)"
      ]
    },
    {
      "cell_type": "code",
      "execution_count": null,
      "metadata": {
        "id": "2YNNljNLpBej"
      },
      "outputs": [],
      "source": [
        "risk_all_countries_2019_source = risk_all_countries_2019.copy()"
      ]
    },
    {
      "cell_type": "code",
      "execution_count": null,
      "metadata": {
        "id": "84FNYv8rpBej",
        "outputId": "00536c0f-17bb-4744-db0d-8feca648f7bb"
      },
      "outputs": [
        {
          "data": {
            "text/plain": [
              "(2792428, 18)"
            ]
          },
          "execution_count": 18,
          "metadata": {},
          "output_type": "execute_result"
        }
      ],
      "source": [
        "risk_all_countries_2019.shape"
      ]
    },
    {
      "cell_type": "code",
      "execution_count": null,
      "metadata": {
        "id": "rgIs4n5hpBej",
        "outputId": "4a36f68e-959d-49ed-a27a-ccf003fd1425"
      },
      "outputs": [
        {
          "data": {
            "text/plain": [
              "Index(['measure_id', 'measure_name', 'location_id', 'location_name', 'sex_id',\n",
              "       'sex_name', 'age_id', 'age_name', 'cause_id', 'cause_name', 'rei_id',\n",
              "       'rei_name', 'metric_id', 'metric_name', 'year', 'val', 'upper',\n",
              "       'lower'],\n",
              "      dtype='object')"
            ]
          },
          "execution_count": 18,
          "metadata": {},
          "output_type": "execute_result"
        }
      ],
      "source": [
        "risk_all_countries_2019.columns"
      ]
    },
    {
      "cell_type": "code",
      "execution_count": null,
      "metadata": {
        "id": "YjG8ko3bpBek",
        "outputId": "fdcfb550-902d-413d-86e3-c55b1da7bc97"
      },
      "outputs": [
        {
          "name": "stdout",
          "output_type": "stream",
          "text": [
            "measure_id 1\n",
            "measure_name 1\n",
            "location_id 204\n",
            "location_name 204\n",
            "sex_id 2\n",
            "sex_name 2\n",
            "age_id 21\n",
            "age_name 21\n",
            "cause_id 80\n",
            "cause_name 80\n",
            "rei_id 67\n",
            "rei_name 67\n",
            "metric_id 1\n",
            "metric_name 1\n",
            "year 1\n",
            "val 2381251\n",
            "upper 2383214\n",
            "lower 2376493\n"
          ]
        }
      ],
      "source": [
        "for column in risk_all_countries_2019.columns:\n",
        "    print(column, risk_all_countries_2019[column].unique().shape[0])"
      ]
    },
    {
      "cell_type": "code",
      "execution_count": null,
      "metadata": {
        "id": "iwCDdYnApBek",
        "outputId": "5647ce6c-d5fa-4d49-c411-c8b633ce0bec"
      },
      "outputs": [
        {
          "data": {
            "text/plain": [
              "array(['All causes'], dtype=object)"
            ]
          },
          "execution_count": 24,
          "metadata": {},
          "output_type": "execute_result"
        }
      ],
      "source": [
        "risk_all_countries_2019.cause_name[risk_all_countries_2019.cause_name.str.contains('All')].unique()"
      ]
    },
    {
      "cell_type": "code",
      "execution_count": null,
      "metadata": {
        "id": "gLhBBWFnpBek"
      },
      "outputs": [],
      "source": [
        "risk_all_countries_2019 = risk_all_countries_2019.copy().query('cause_name != \"All causes\"')"
      ]
    },
    {
      "cell_type": "markdown",
      "metadata": {
        "id": "fB-jAiLSpBel"
      },
      "source": [
        "## Load life expectancy"
      ]
    },
    {
      "cell_type": "code",
      "execution_count": 11,
      "metadata": {
        "colab": {
          "base_uri": "https://localhost:8080/"
        },
        "id": "FxcEgZL-pBel",
        "outputId": "4e0f91bf-7e62-4b2d-8a38-88fd50ad7be0"
      },
      "outputs": [
        {
          "output_type": "stream",
          "name": "stdout",
          "text": [
            "IHME_GBD_2019_LIFE_TABLES_1950_2019_ID_10_WSHOCK_Y2020M11D13.CSV\n",
            "IHME_GBD_2019_LIFE_TABLES_1950_2019_ID_13_WSHOCK_Y2020M11D13.CSV\n",
            "IHME_GBD_2019_LIFE_TABLES_1950_2019_ID_6_WSHOCK_Y2020M11D13.CSV\n",
            "IHME_GBD_2019_LIFE_TABLES_1950_2019_ID_12_WSHOCK_Y2020M11D13.CSV\n",
            "IHME_GBD_2019_LIFE_TABLES_1950_2019_ID_8_WSHOCK_Y2020M11D13.CSV\n",
            "IHME_GBD_2019_LIFE_TABLES_1950_2019_ID_7_WSHOCK_Y2020M11D13.CSV\n",
            "IHME_GBD_2019_LIFE_TABLES_1950_2019_ID_9_WSHOCK_Y2020M11D13.CSV\n",
            "IHME_GBD_2019_LIFE_TABLES_1950_2019_ID_14_WSHOCK_Y2020M11D13.CSV\n",
            "IHME_GBD_2019_LIFE_TABLES_1950_2019_ID_5_WSHOCK_Y2020M11D13.CSV\n",
            "IHME_GBD_2019_LIFE_TABLES_1950_2019_ID_11_WSHOCK_Y2020M11D13.CSV\n",
            "IHME_GBD_2019_LIFE_TABLES_1950_2019_ID_18_WSHOCK_Y2020M11D13.CSV\n",
            "IHME_GBD_2019_LIFE_TABLES_1950_2019_ID_16_WSHOCK_Y2020M11D13.CSV\n",
            "IHME_GBD_2019_LIFE_TABLES_1950_2019_ID_28_WSHOCK_Y2020M11D13.CSV\n",
            "IHME_GBD_2019_LIFE_TABLES_1950_2019_ID_20_WSHOCK_Y2020M11D13.CSV\n",
            "IHME_GBD_2019_LIFE_TABLES_1950_2019_ID_30_WSHOCK_Y2020M11D13.CSV\n",
            "IHME_GBD_2019_LIFE_TABLES_1950_2019_ID_17_WSHOCK_Y2020M11D13.CSV\n",
            "IHME_GBD_2019_LIFE_TABLES_1950_2019_ID_31_WSHOCK_Y2020M11D13.CSV\n",
            "IHME_GBD_2019_LIFE_TABLES_1950_2019_ID_15_WSHOCK_Y2020M11D13.CSV\n",
            "IHME_GBD_2019_LIFE_TABLES_1950_2019_ID_19_WSHOCK_Y2020M11D13.CSV\n",
            "IHME_GBD_2019_LIFE_TABLES_1950_2019_ID_32_WSHOCK_Y2020M11D13.CSV\n",
            "IHME_GBD_2019_LIFE_TABLES_1950_2019_ID_148_WSHOCK_Y2020M11D13.CSV\n",
            "IHME_GBD_2019_LIFE_TABLES_1950_2019_ID_44_WSHOCK_Y2020M11D13.CSV\n",
            "IHME_GBD_2019_LIFE_TABLES_1950_2019_ID_33_WSHOCK_Y2020M11D13.CSV\n",
            "IHME_GBD_2019_LIFE_TABLES_1950_2019_ID_45_WSHOCK_Y2020M11D13.CSV\n"
          ]
        }
      ],
      "source": [
        "life_tables_paths = [x for x in os.walk(os.path.join('data', 'life_tables'))]\n",
        "\n",
        "life_tables_df = []\n",
        "\n",
        "for path in life_tables_paths[1:]:\n",
        "    file_name = next(filter(lambda x: 'WSHOCK' in x, path[2])) #return first path with 'NOSHOCK' in it\n",
        "    life_tables_df.append(\n",
        "        pd.read_csv(\n",
        "            os.path.join(path[0], file_name)\n",
        "        )\n",
        "    )\n",
        "    print(file_name)"
      ]
    },
    {
      "cell_type": "code",
      "execution_count": null,
      "metadata": {
        "id": "M3ZmtwRBpBel",
        "outputId": "daeda64b-f23c-48a6-c259-6e01cc8c60ee"
      },
      "outputs": [
        {
          "name": "stdout",
          "output_type": "stream",
          "text": [
            "(6804000, 14)\n"
          ]
        },
        {
          "data": {
            "text/html": [
              "<div>\n",
              "<style scoped>\n",
              "    .dataframe tbody tr th:only-of-type {\n",
              "        vertical-align: middle;\n",
              "    }\n",
              "\n",
              "    .dataframe tbody tr th {\n",
              "        vertical-align: top;\n",
              "    }\n",
              "\n",
              "    .dataframe thead th {\n",
              "        text-align: right;\n",
              "    }\n",
              "</style>\n",
              "<table border=\"1\" class=\"dataframe\">\n",
              "  <thead>\n",
              "    <tr style=\"text-align: right;\">\n",
              "      <th></th>\n",
              "      <th>location_id</th>\n",
              "      <th>location_name</th>\n",
              "      <th>sex_id</th>\n",
              "      <th>sex_name</th>\n",
              "      <th>age_group_id</th>\n",
              "      <th>age_group_name</th>\n",
              "      <th>year_id</th>\n",
              "      <th>measure_id</th>\n",
              "      <th>measure_name</th>\n",
              "      <th>metric_id</th>\n",
              "      <th>metric_name</th>\n",
              "      <th>val</th>\n",
              "      <th>upper</th>\n",
              "      <th>lower</th>\n",
              "    </tr>\n",
              "  </thead>\n",
              "  <tbody>\n",
              "    <tr>\n",
              "      <th>0</th>\n",
              "      <td>1</td>\n",
              "      <td>Global</td>\n",
              "      <td>1</td>\n",
              "      <td>male</td>\n",
              "      <td>10</td>\n",
              "      <td>25 to 29</td>\n",
              "      <td>1950</td>\n",
              "      <td>27</td>\n",
              "      <td>Probability of death</td>\n",
              "      <td>8</td>\n",
              "      <td>Probability of death</td>\n",
              "      <td>0.020009</td>\n",
              "      <td>0.021030</td>\n",
              "      <td>0.019039</td>\n",
              "    </tr>\n",
              "    <tr>\n",
              "      <th>1</th>\n",
              "      <td>1</td>\n",
              "      <td>Global</td>\n",
              "      <td>1</td>\n",
              "      <td>male</td>\n",
              "      <td>10</td>\n",
              "      <td>25 to 29</td>\n",
              "      <td>1950</td>\n",
              "      <td>26</td>\n",
              "      <td>Life expectancy</td>\n",
              "      <td>5</td>\n",
              "      <td>Years</td>\n",
              "      <td>39.693623</td>\n",
              "      <td>40.543689</td>\n",
              "      <td>38.834807</td>\n",
              "    </tr>\n",
              "    <tr>\n",
              "      <th>2</th>\n",
              "      <td>1</td>\n",
              "      <td>Global</td>\n",
              "      <td>2</td>\n",
              "      <td>female</td>\n",
              "      <td>10</td>\n",
              "      <td>25 to 29</td>\n",
              "      <td>1950</td>\n",
              "      <td>27</td>\n",
              "      <td>Probability of death</td>\n",
              "      <td>8</td>\n",
              "      <td>Probability of death</td>\n",
              "      <td>0.018781</td>\n",
              "      <td>0.020751</td>\n",
              "      <td>0.016899</td>\n",
              "    </tr>\n",
              "    <tr>\n",
              "      <th>3</th>\n",
              "      <td>1</td>\n",
              "      <td>Global</td>\n",
              "      <td>2</td>\n",
              "      <td>female</td>\n",
              "      <td>10</td>\n",
              "      <td>25 to 29</td>\n",
              "      <td>1950</td>\n",
              "      <td>26</td>\n",
              "      <td>Life expectancy</td>\n",
              "      <td>5</td>\n",
              "      <td>Years</td>\n",
              "      <td>44.072916</td>\n",
              "      <td>44.957524</td>\n",
              "      <td>43.163672</td>\n",
              "    </tr>\n",
              "    <tr>\n",
              "      <th>4</th>\n",
              "      <td>1</td>\n",
              "      <td>Global</td>\n",
              "      <td>3</td>\n",
              "      <td>both</td>\n",
              "      <td>10</td>\n",
              "      <td>25 to 29</td>\n",
              "      <td>1950</td>\n",
              "      <td>27</td>\n",
              "      <td>Probability of death</td>\n",
              "      <td>8</td>\n",
              "      <td>Probability of death</td>\n",
              "      <td>0.019387</td>\n",
              "      <td>0.020521</td>\n",
              "      <td>0.018226</td>\n",
              "    </tr>\n",
              "  </tbody>\n",
              "</table>\n",
              "</div>"
            ],
            "text/plain": [
              "   location_id location_name  sex_id sex_name  age_group_id age_group_name  \\\n",
              "0            1        Global       1     male            10       25 to 29   \n",
              "1            1        Global       1     male            10       25 to 29   \n",
              "2            1        Global       2   female            10       25 to 29   \n",
              "3            1        Global       2   female            10       25 to 29   \n",
              "4            1        Global       3     both            10       25 to 29   \n",
              "\n",
              "   year_id  measure_id          measure_name  metric_id           metric_name  \\\n",
              "0     1950          27  Probability of death          8  Probability of death   \n",
              "1     1950          26       Life expectancy          5                 Years   \n",
              "2     1950          27  Probability of death          8  Probability of death   \n",
              "3     1950          26       Life expectancy          5                 Years   \n",
              "4     1950          27  Probability of death          8  Probability of death   \n",
              "\n",
              "         val      upper      lower  \n",
              "0   0.020009   0.021030   0.019039  \n",
              "1  39.693623  40.543689  38.834807  \n",
              "2   0.018781   0.020751   0.016899  \n",
              "3  44.072916  44.957524  43.163672  \n",
              "4   0.019387   0.020521   0.018226  "
            ]
          },
          "metadata": {},
          "output_type": "display_data"
        }
      ],
      "source": [
        "life_tables = pd.concat(life_tables_df)\n",
        "\n",
        "print(life_tables.shape)\n",
        "display(life_tables.head())"
      ]
    },
    {
      "cell_type": "code",
      "execution_count": null,
      "metadata": {
        "id": "CBKSrcgjpBem",
        "outputId": "8f470379-fd3a-42e6-e0aa-0e8c17e33452"
      },
      "outputs": [
        {
          "data": {
            "text/html": [
              "<div>\n",
              "<style scoped>\n",
              "    .dataframe tbody tr th:only-of-type {\n",
              "        vertical-align: middle;\n",
              "    }\n",
              "\n",
              "    .dataframe tbody tr th {\n",
              "        vertical-align: top;\n",
              "    }\n",
              "\n",
              "    .dataframe thead th {\n",
              "        text-align: right;\n",
              "    }\n",
              "</style>\n",
              "<table border=\"1\" class=\"dataframe\">\n",
              "  <thead>\n",
              "    <tr style=\"text-align: right;\">\n",
              "      <th></th>\n",
              "      <th>location_id</th>\n",
              "      <th>location_name</th>\n",
              "      <th>sex_id</th>\n",
              "      <th>sex_name</th>\n",
              "      <th>age_group_id</th>\n",
              "      <th>age_group_name</th>\n",
              "      <th>year_id</th>\n",
              "      <th>measure_id</th>\n",
              "      <th>measure_name</th>\n",
              "      <th>metric_id</th>\n",
              "      <th>metric_name</th>\n",
              "      <th>val</th>\n",
              "      <th>upper</th>\n",
              "      <th>lower</th>\n",
              "    </tr>\n",
              "  </thead>\n",
              "  <tbody>\n",
              "    <tr>\n",
              "      <th>415</th>\n",
              "      <td>1</td>\n",
              "      <td>Global</td>\n",
              "      <td>1</td>\n",
              "      <td>male</td>\n",
              "      <td>10</td>\n",
              "      <td>25 to 29</td>\n",
              "      <td>2019</td>\n",
              "      <td>26</td>\n",
              "      <td>Life expectancy</td>\n",
              "      <td>5</td>\n",
              "      <td>Years</td>\n",
              "      <td>49.847937</td>\n",
              "      <td>50.595783</td>\n",
              "      <td>49.155354</td>\n",
              "    </tr>\n",
              "    <tr>\n",
              "      <th>417</th>\n",
              "      <td>1</td>\n",
              "      <td>Global</td>\n",
              "      <td>2</td>\n",
              "      <td>female</td>\n",
              "      <td>10</td>\n",
              "      <td>25 to 29</td>\n",
              "      <td>2019</td>\n",
              "      <td>26</td>\n",
              "      <td>Life expectancy</td>\n",
              "      <td>5</td>\n",
              "      <td>Years</td>\n",
              "      <td>54.660094</td>\n",
              "      <td>55.299612</td>\n",
              "      <td>54.035491</td>\n",
              "    </tr>\n",
              "    <tr>\n",
              "      <th>835</th>\n",
              "      <td>4</td>\n",
              "      <td>Southeast Asia, East Asia, and Oceania</td>\n",
              "      <td>1</td>\n",
              "      <td>male</td>\n",
              "      <td>10</td>\n",
              "      <td>25 to 29</td>\n",
              "      <td>2019</td>\n",
              "      <td>26</td>\n",
              "      <td>Life expectancy</td>\n",
              "      <td>5</td>\n",
              "      <td>Years</td>\n",
              "      <td>50.143905</td>\n",
              "      <td>51.609924</td>\n",
              "      <td>48.774651</td>\n",
              "    </tr>\n",
              "    <tr>\n",
              "      <th>837</th>\n",
              "      <td>4</td>\n",
              "      <td>Southeast Asia, East Asia, and Oceania</td>\n",
              "      <td>2</td>\n",
              "      <td>female</td>\n",
              "      <td>10</td>\n",
              "      <td>25 to 29</td>\n",
              "      <td>2019</td>\n",
              "      <td>26</td>\n",
              "      <td>Life expectancy</td>\n",
              "      <td>5</td>\n",
              "      <td>Years</td>\n",
              "      <td>55.661647</td>\n",
              "      <td>56.896661</td>\n",
              "      <td>54.433171</td>\n",
              "    </tr>\n",
              "    <tr>\n",
              "      <th>1255</th>\n",
              "      <td>5</td>\n",
              "      <td>East Asia</td>\n",
              "      <td>1</td>\n",
              "      <td>male</td>\n",
              "      <td>10</td>\n",
              "      <td>25 to 29</td>\n",
              "      <td>2019</td>\n",
              "      <td>26</td>\n",
              "      <td>Life expectancy</td>\n",
              "      <td>5</td>\n",
              "      <td>Years</td>\n",
              "      <td>50.938034</td>\n",
              "      <td>52.841619</td>\n",
              "      <td>49.069084</td>\n",
              "    </tr>\n",
              "    <tr>\n",
              "      <th>...</th>\n",
              "      <td>...</td>\n",
              "      <td>...</td>\n",
              "      <td>...</td>\n",
              "      <td>...</td>\n",
              "      <td>...</td>\n",
              "      <td>...</td>\n",
              "      <td>...</td>\n",
              "      <td>...</td>\n",
              "      <td>...</td>\n",
              "      <td>...</td>\n",
              "      <td>...</td>\n",
              "      <td>...</td>\n",
              "      <td>...</td>\n",
              "      <td>...</td>\n",
              "    </tr>\n",
              "    <tr>\n",
              "      <th>282657</th>\n",
              "      <td>44790</td>\n",
              "      <td>Bournemouth</td>\n",
              "      <td>2</td>\n",
              "      <td>female</td>\n",
              "      <td>9</td>\n",
              "      <td>20 to 24</td>\n",
              "      <td>2019</td>\n",
              "      <td>26</td>\n",
              "      <td>Life expectancy</td>\n",
              "      <td>5</td>\n",
              "      <td>Years</td>\n",
              "      <td>62.391643</td>\n",
              "      <td>63.838374</td>\n",
              "      <td>60.957610</td>\n",
              "    </tr>\n",
              "    <tr>\n",
              "      <th>283075</th>\n",
              "      <td>44791</td>\n",
              "      <td>Cornwall</td>\n",
              "      <td>1</td>\n",
              "      <td>male</td>\n",
              "      <td>9</td>\n",
              "      <td>20 to 24</td>\n",
              "      <td>2019</td>\n",
              "      <td>26</td>\n",
              "      <td>Life expectancy</td>\n",
              "      <td>5</td>\n",
              "      <td>Years</td>\n",
              "      <td>60.261833</td>\n",
              "      <td>61.860788</td>\n",
              "      <td>58.747535</td>\n",
              "    </tr>\n",
              "    <tr>\n",
              "      <th>283077</th>\n",
              "      <td>44791</td>\n",
              "      <td>Cornwall</td>\n",
              "      <td>2</td>\n",
              "      <td>female</td>\n",
              "      <td>9</td>\n",
              "      <td>20 to 24</td>\n",
              "      <td>2019</td>\n",
              "      <td>26</td>\n",
              "      <td>Life expectancy</td>\n",
              "      <td>5</td>\n",
              "      <td>Years</td>\n",
              "      <td>63.780595</td>\n",
              "      <td>65.032639</td>\n",
              "      <td>62.448782</td>\n",
              "    </tr>\n",
              "    <tr>\n",
              "      <th>283495</th>\n",
              "      <td>44792</td>\n",
              "      <td>Plymouth</td>\n",
              "      <td>1</td>\n",
              "      <td>male</td>\n",
              "      <td>9</td>\n",
              "      <td>20 to 24</td>\n",
              "      <td>2019</td>\n",
              "      <td>26</td>\n",
              "      <td>Life expectancy</td>\n",
              "      <td>5</td>\n",
              "      <td>Years</td>\n",
              "      <td>59.053481</td>\n",
              "      <td>60.693160</td>\n",
              "      <td>57.404585</td>\n",
              "    </tr>\n",
              "    <tr>\n",
              "      <th>283497</th>\n",
              "      <td>44792</td>\n",
              "      <td>Plymouth</td>\n",
              "      <td>2</td>\n",
              "      <td>female</td>\n",
              "      <td>9</td>\n",
              "      <td>20 to 24</td>\n",
              "      <td>2019</td>\n",
              "      <td>26</td>\n",
              "      <td>Life expectancy</td>\n",
              "      <td>5</td>\n",
              "      <td>Years</td>\n",
              "      <td>63.199178</td>\n",
              "      <td>64.539995</td>\n",
              "      <td>61.885567</td>\n",
              "    </tr>\n",
              "  </tbody>\n",
              "</table>\n",
              "<p>32400 rows × 14 columns</p>\n",
              "</div>"
            ],
            "text/plain": [
              "        location_id                           location_name  sex_id sex_name  \\\n",
              "415               1                                  Global       1     male   \n",
              "417               1                                  Global       2   female   \n",
              "835               4  Southeast Asia, East Asia, and Oceania       1     male   \n",
              "837               4  Southeast Asia, East Asia, and Oceania       2   female   \n",
              "1255              5                               East Asia       1     male   \n",
              "...             ...                                     ...     ...      ...   \n",
              "282657        44790                             Bournemouth       2   female   \n",
              "283075        44791                                Cornwall       1     male   \n",
              "283077        44791                                Cornwall       2   female   \n",
              "283495        44792                                Plymouth       1     male   \n",
              "283497        44792                                Plymouth       2   female   \n",
              "\n",
              "        age_group_id age_group_name  year_id  measure_id     measure_name  \\\n",
              "415               10       25 to 29     2019          26  Life expectancy   \n",
              "417               10       25 to 29     2019          26  Life expectancy   \n",
              "835               10       25 to 29     2019          26  Life expectancy   \n",
              "837               10       25 to 29     2019          26  Life expectancy   \n",
              "1255              10       25 to 29     2019          26  Life expectancy   \n",
              "...              ...            ...      ...         ...              ...   \n",
              "282657             9       20 to 24     2019          26  Life expectancy   \n",
              "283075             9       20 to 24     2019          26  Life expectancy   \n",
              "283077             9       20 to 24     2019          26  Life expectancy   \n",
              "283495             9       20 to 24     2019          26  Life expectancy   \n",
              "283497             9       20 to 24     2019          26  Life expectancy   \n",
              "\n",
              "        metric_id metric_name        val      upper      lower  \n",
              "415             5       Years  49.847937  50.595783  49.155354  \n",
              "417             5       Years  54.660094  55.299612  54.035491  \n",
              "835             5       Years  50.143905  51.609924  48.774651  \n",
              "837             5       Years  55.661647  56.896661  54.433171  \n",
              "1255            5       Years  50.938034  52.841619  49.069084  \n",
              "...           ...         ...        ...        ...        ...  \n",
              "282657          5       Years  62.391643  63.838374  60.957610  \n",
              "283075          5       Years  60.261833  61.860788  58.747535  \n",
              "283077          5       Years  63.780595  65.032639  62.448782  \n",
              "283495          5       Years  59.053481  60.693160  57.404585  \n",
              "283497          5       Years  63.199178  64.539995  61.885567  \n",
              "\n",
              "[32400 rows x 14 columns]"
            ]
          },
          "execution_count": 29,
          "metadata": {},
          "output_type": "execute_result"
        }
      ],
      "source": [
        "life_expectancy = life_tables.copy().query(\n",
        "    'measure_name == \"Life expectancy\"'\n",
        "    ' and metric_name == \"Years\"'\n",
        "    ' and year_id == 2019'\n",
        "    ' and sex_name != \"both\"'\n",
        ")\n",
        "\n",
        "life_expectancy"
      ]
    },
    {
      "cell_type": "code",
      "execution_count": null,
      "metadata": {
        "id": "uTHDFvaJpBem"
      },
      "outputs": [],
      "source": [
        "life_expectancy = life_expectancy.query('location_id in @risk_all_countries_2019.location_id.unique()')"
      ]
    },
    {
      "cell_type": "code",
      "execution_count": null,
      "metadata": {
        "id": "NDmZVorepBem",
        "outputId": "063b00d8-bb2f-40fc-93ed-091d84fc5cad"
      },
      "outputs": [
        {
          "data": {
            "text/plain": [
              "array(['25 to 29', '30 to 34', '35 to 39', '40 to 44', '110 plus',\n",
              "       '45 to 49', '50 to 54', '55 to 59', '60 to 64', '65 to 69',\n",
              "       '70 to 74', '75 to 79', '<1 year', '80 to 84', '85 to 89',\n",
              "       '90 to 94', '95 to 99', '100 to 104', '105 to 109', '1 to 4',\n",
              "       '5 to 9', '10 to 14', '15 to 19', '20 to 24'], dtype=object)"
            ]
          },
          "execution_count": 31,
          "metadata": {},
          "output_type": "execute_result"
        }
      ],
      "source": [
        "life_expectancy.age_group_name.unique()"
      ]
    },
    {
      "cell_type": "markdown",
      "metadata": {
        "id": "_gbae0pMpBem"
      },
      "source": [
        "## load population"
      ]
    },
    {
      "cell_type": "code",
      "execution_count": 12,
      "metadata": {
        "colab": {
          "base_uri": "https://localhost:8080/",
          "height": 287
        },
        "id": "QlIq_dVfpBem",
        "outputId": "28b73cda-636d-43a0-ccfd-d9237b236497"
      },
      "outputs": [
        {
          "output_type": "stream",
          "name": "stdout",
          "text": [
            "(95175, 14)\n"
          ]
        },
        {
          "output_type": "display_data",
          "data": {
            "text/plain": [
              "   location_id location_name  sex_id sex_name  age_group_id  age_group_name  \\\n",
              "0            1        Global       1     male             1         Under 5   \n",
              "1            1        Global       1     male             2  Early Neonatal   \n",
              "2            1        Global       1     male             3   Late Neonatal   \n",
              "3            1        Global       1     male             4   Post Neonatal   \n",
              "4            1        Global       1     male             5          1 to 4   \n",
              "\n",
              "   year_id  measure_id measure_name  metric_id metric_name           val  \\\n",
              "0     2019          44   Population          1      Number  3.423987e+08   \n",
              "1     2019          44   Population          1      Number  1.330245e+06   \n",
              "2     2019          44   Population          1      Number  3.951181e+06   \n",
              "3     2019          44   Population          1      Number  6.292360e+07   \n",
              "4     2019          44   Population          1      Number  2.741937e+08   \n",
              "\n",
              "          upper         lower  \n",
              "0  3.523971e+08  3.324841e+08  \n",
              "1  1.368039e+06  1.292459e+06  \n",
              "2  4.063467e+06  3.839020e+06  \n",
              "3  6.472045e+07  6.113298e+07  \n",
              "4  2.822446e+08  2.662198e+08  "
            ],
            "text/html": [
              "\n",
              "  <div id=\"df-01b811ea-aea2-4c4b-b28c-5246cf578fbe\">\n",
              "    <div class=\"colab-df-container\">\n",
              "      <div>\n",
              "<style scoped>\n",
              "    .dataframe tbody tr th:only-of-type {\n",
              "        vertical-align: middle;\n",
              "    }\n",
              "\n",
              "    .dataframe tbody tr th {\n",
              "        vertical-align: top;\n",
              "    }\n",
              "\n",
              "    .dataframe thead th {\n",
              "        text-align: right;\n",
              "    }\n",
              "</style>\n",
              "<table border=\"1\" class=\"dataframe\">\n",
              "  <thead>\n",
              "    <tr style=\"text-align: right;\">\n",
              "      <th></th>\n",
              "      <th>location_id</th>\n",
              "      <th>location_name</th>\n",
              "      <th>sex_id</th>\n",
              "      <th>sex_name</th>\n",
              "      <th>age_group_id</th>\n",
              "      <th>age_group_name</th>\n",
              "      <th>year_id</th>\n",
              "      <th>measure_id</th>\n",
              "      <th>measure_name</th>\n",
              "      <th>metric_id</th>\n",
              "      <th>metric_name</th>\n",
              "      <th>val</th>\n",
              "      <th>upper</th>\n",
              "      <th>lower</th>\n",
              "    </tr>\n",
              "  </thead>\n",
              "  <tbody>\n",
              "    <tr>\n",
              "      <th>0</th>\n",
              "      <td>1</td>\n",
              "      <td>Global</td>\n",
              "      <td>1</td>\n",
              "      <td>male</td>\n",
              "      <td>1</td>\n",
              "      <td>Under 5</td>\n",
              "      <td>2019</td>\n",
              "      <td>44</td>\n",
              "      <td>Population</td>\n",
              "      <td>1</td>\n",
              "      <td>Number</td>\n",
              "      <td>3.423987e+08</td>\n",
              "      <td>3.523971e+08</td>\n",
              "      <td>3.324841e+08</td>\n",
              "    </tr>\n",
              "    <tr>\n",
              "      <th>1</th>\n",
              "      <td>1</td>\n",
              "      <td>Global</td>\n",
              "      <td>1</td>\n",
              "      <td>male</td>\n",
              "      <td>2</td>\n",
              "      <td>Early Neonatal</td>\n",
              "      <td>2019</td>\n",
              "      <td>44</td>\n",
              "      <td>Population</td>\n",
              "      <td>1</td>\n",
              "      <td>Number</td>\n",
              "      <td>1.330245e+06</td>\n",
              "      <td>1.368039e+06</td>\n",
              "      <td>1.292459e+06</td>\n",
              "    </tr>\n",
              "    <tr>\n",
              "      <th>2</th>\n",
              "      <td>1</td>\n",
              "      <td>Global</td>\n",
              "      <td>1</td>\n",
              "      <td>male</td>\n",
              "      <td>3</td>\n",
              "      <td>Late Neonatal</td>\n",
              "      <td>2019</td>\n",
              "      <td>44</td>\n",
              "      <td>Population</td>\n",
              "      <td>1</td>\n",
              "      <td>Number</td>\n",
              "      <td>3.951181e+06</td>\n",
              "      <td>4.063467e+06</td>\n",
              "      <td>3.839020e+06</td>\n",
              "    </tr>\n",
              "    <tr>\n",
              "      <th>3</th>\n",
              "      <td>1</td>\n",
              "      <td>Global</td>\n",
              "      <td>1</td>\n",
              "      <td>male</td>\n",
              "      <td>4</td>\n",
              "      <td>Post Neonatal</td>\n",
              "      <td>2019</td>\n",
              "      <td>44</td>\n",
              "      <td>Population</td>\n",
              "      <td>1</td>\n",
              "      <td>Number</td>\n",
              "      <td>6.292360e+07</td>\n",
              "      <td>6.472045e+07</td>\n",
              "      <td>6.113298e+07</td>\n",
              "    </tr>\n",
              "    <tr>\n",
              "      <th>4</th>\n",
              "      <td>1</td>\n",
              "      <td>Global</td>\n",
              "      <td>1</td>\n",
              "      <td>male</td>\n",
              "      <td>5</td>\n",
              "      <td>1 to 4</td>\n",
              "      <td>2019</td>\n",
              "      <td>44</td>\n",
              "      <td>Population</td>\n",
              "      <td>1</td>\n",
              "      <td>Number</td>\n",
              "      <td>2.741937e+08</td>\n",
              "      <td>2.822446e+08</td>\n",
              "      <td>2.662198e+08</td>\n",
              "    </tr>\n",
              "  </tbody>\n",
              "</table>\n",
              "</div>\n",
              "      <button class=\"colab-df-convert\" onclick=\"convertToInteractive('df-01b811ea-aea2-4c4b-b28c-5246cf578fbe')\"\n",
              "              title=\"Convert this dataframe to an interactive table.\"\n",
              "              style=\"display:none;\">\n",
              "        \n",
              "  <svg xmlns=\"http://www.w3.org/2000/svg\" height=\"24px\"viewBox=\"0 0 24 24\"\n",
              "       width=\"24px\">\n",
              "    <path d=\"M0 0h24v24H0V0z\" fill=\"none\"/>\n",
              "    <path d=\"M18.56 5.44l.94 2.06.94-2.06 2.06-.94-2.06-.94-.94-2.06-.94 2.06-2.06.94zm-11 1L8.5 8.5l.94-2.06 2.06-.94-2.06-.94L8.5 2.5l-.94 2.06-2.06.94zm10 10l.94 2.06.94-2.06 2.06-.94-2.06-.94-.94-2.06-.94 2.06-2.06.94z\"/><path d=\"M17.41 7.96l-1.37-1.37c-.4-.4-.92-.59-1.43-.59-.52 0-1.04.2-1.43.59L10.3 9.45l-7.72 7.72c-.78.78-.78 2.05 0 2.83L4 21.41c.39.39.9.59 1.41.59.51 0 1.02-.2 1.41-.59l7.78-7.78 2.81-2.81c.8-.78.8-2.07 0-2.86zM5.41 20L4 18.59l7.72-7.72 1.47 1.35L5.41 20z\"/>\n",
              "  </svg>\n",
              "      </button>\n",
              "      \n",
              "  <style>\n",
              "    .colab-df-container {\n",
              "      display:flex;\n",
              "      flex-wrap:wrap;\n",
              "      gap: 12px;\n",
              "    }\n",
              "\n",
              "    .colab-df-convert {\n",
              "      background-color: #E8F0FE;\n",
              "      border: none;\n",
              "      border-radius: 50%;\n",
              "      cursor: pointer;\n",
              "      display: none;\n",
              "      fill: #1967D2;\n",
              "      height: 32px;\n",
              "      padding: 0 0 0 0;\n",
              "      width: 32px;\n",
              "    }\n",
              "\n",
              "    .colab-df-convert:hover {\n",
              "      background-color: #E2EBFA;\n",
              "      box-shadow: 0px 1px 2px rgba(60, 64, 67, 0.3), 0px 1px 3px 1px rgba(60, 64, 67, 0.15);\n",
              "      fill: #174EA6;\n",
              "    }\n",
              "\n",
              "    [theme=dark] .colab-df-convert {\n",
              "      background-color: #3B4455;\n",
              "      fill: #D2E3FC;\n",
              "    }\n",
              "\n",
              "    [theme=dark] .colab-df-convert:hover {\n",
              "      background-color: #434B5C;\n",
              "      box-shadow: 0px 1px 3px 1px rgba(0, 0, 0, 0.15);\n",
              "      filter: drop-shadow(0px 1px 2px rgba(0, 0, 0, 0.3));\n",
              "      fill: #FFFFFF;\n",
              "    }\n",
              "  </style>\n",
              "\n",
              "      <script>\n",
              "        const buttonEl =\n",
              "          document.querySelector('#df-01b811ea-aea2-4c4b-b28c-5246cf578fbe button.colab-df-convert');\n",
              "        buttonEl.style.display =\n",
              "          google.colab.kernel.accessAllowed ? 'block' : 'none';\n",
              "\n",
              "        async function convertToInteractive(key) {\n",
              "          const element = document.querySelector('#df-01b811ea-aea2-4c4b-b28c-5246cf578fbe');\n",
              "          const dataTable =\n",
              "            await google.colab.kernel.invokeFunction('convertToInteractive',\n",
              "                                                     [key], {});\n",
              "          if (!dataTable) return;\n",
              "\n",
              "          const docLinkHtml = 'Like what you see? Visit the ' +\n",
              "            '<a target=\"_blank\" href=https://colab.research.google.com/notebooks/data_table.ipynb>data table notebook</a>'\n",
              "            + ' to learn more about interactive tables.';\n",
              "          element.innerHTML = '';\n",
              "          dataTable['output_type'] = 'display_data';\n",
              "          await google.colab.output.renderOutput(dataTable, element);\n",
              "          const docLink = document.createElement('div');\n",
              "          docLink.innerHTML = docLinkHtml;\n",
              "          element.appendChild(docLink);\n",
              "        }\n",
              "      </script>\n",
              "    </div>\n",
              "  </div>\n",
              "  "
            ]
          },
          "metadata": {}
        }
      ],
      "source": [
        "population = pd.read_csv(\n",
        "    os.path.join('data', 'population', 'IHME_GBD_2019_POP_2019_Y2020M10D15.CSV')\n",
        ")\n",
        "\n",
        "print(population.shape)\n",
        "display(population.head())"
      ]
    },
    {
      "cell_type": "code",
      "execution_count": null,
      "metadata": {
        "id": "0Nr01e5hpBen",
        "outputId": "bcd7e16e-81b4-4b3a-f53f-17a118f5633e"
      },
      "outputs": [
        {
          "data": {
            "text/plain": [
              "Index(['location_id', 'location_name', 'sex_id', 'sex_name', 'age_group_id',\n",
              "       'age_group_name', 'year_id', 'measure_id', 'measure_name', 'metric_id',\n",
              "       'metric_name', 'val', 'upper', 'lower'],\n",
              "      dtype='object')"
            ]
          },
          "execution_count": 36,
          "metadata": {},
          "output_type": "execute_result"
        }
      ],
      "source": [
        "population.columns"
      ]
    },
    {
      "cell_type": "code",
      "execution_count": null,
      "metadata": {
        "id": "3YPliC4FpBen"
      },
      "outputs": [],
      "source": [
        "population = population.query('location_id in @risk_all_countries_2019.location_id.unique()')"
      ]
    },
    {
      "cell_type": "markdown",
      "metadata": {
        "id": "rSeZKxbtpBen"
      },
      "source": [
        "population preprocessing"
      ]
    },
    {
      "cell_type": "code",
      "execution_count": null,
      "metadata": {
        "id": "k7DbB4vlpBen",
        "outputId": "57c12688-b7f8-47a8-fec3-b723b2468419"
      },
      "outputs": [
        {
          "name": "stdout",
          "output_type": "stream",
          "text": [
            "location_id\n"
          ]
        },
        {
          "data": {
            "text/plain": [
              "array([    1,     4,     5,     6,     7,     8,     9,    10,    11,\n",
              "          12,    13,    14,    15,    16,    17,    18,    19,    20,\n",
              "          21,    22,    23,    24,    25,    26,    27,    28,    29,\n",
              "          30,    31,    32,    33,    34,    35,    36,    37,    38,\n",
              "          39,    40,    41,    42,    43,    44,    45,    46,    47,\n",
              "          48,    49,    50,    51,    52,    53,    54,    55,    56,\n",
              "          57,    58,    59,    60,    61,    62,    63,    64,    65,\n",
              "          66,    67,    68,    69,    70,    71,    72,    73,    74,\n",
              "          75,    76,    77,    78,    79,    80,    81,    82,    83,\n",
              "          84,    85,    86,    87,    88,    89,    90,    91,    92,\n",
              "          93,    94,    95,    96,    97,    98,    99,   100,   101,\n",
              "         102,   103,   104,   105,   106,   107,   108,   109,   110,\n",
              "         111,   112,   113,   114,   115,   116,   117,   118,   119,\n",
              "         120,   121,   122,   123,   124,   125,   126,   127,   128,\n",
              "         129,   130,   131,   132,   133,   134,   135,   136,   137,\n",
              "         138,   139,   140,   141,   142,   143,   144,   145,   146,\n",
              "         147,   148,   149,   150,   151,   152,   153,   154,   155,\n",
              "         156,   157,   158,   159,   160,   161,   162,   163,   164,\n",
              "         165,   166,   167,   168,   169,   170,   171,   172,   173,\n",
              "         174,   175,   176,   177,   178,   179,   180,   181,   182,\n",
              "         183,   184,   185,   186,   187,   189,   190,   191,   192,\n",
              "         193,   194,   195,   196,   197,   198,   199,   200,   201,\n",
              "         202,   203,   204,   205,   206,   207,   208,   209,   210,\n",
              "         211,   212,   213,   214,   215,   216,   217,   218,   239,\n",
              "         240,   241,   242,   243,   244,   298,   305,   320,   349,\n",
              "         351,   367,   369,   374,   376,   380,   385,   393,   396,\n",
              "         413,   416,   422,   433,   434,   435,   478,   479,   522,\n",
              "         523,   524,   525,   526,   527,   528,   529,   530,   531,\n",
              "         532,   533,   534,   535,   536,   537,   538,   539,   540,\n",
              "         541,   542,   543,   544,   545,   546,   547,   548,   549,\n",
              "         550,   551,   552,   553,   554,   555,   556,   557,   558,\n",
              "         559,   560,   561,   562,   563,   564,   565,   566,   567,\n",
              "         568,   569,   570,   571,   572,   573,  4618,  4619,  4620,\n",
              "        4621,  4622,  4623,  4624,  4625,  4626,  4636,  4643,  4644,\n",
              "        4645,  4646,  4647,  4648,  4649,  4650,  4651,  4652,  4653,\n",
              "        4654,  4655,  4656,  4657,  4658,  4659,  4660,  4661,  4662,\n",
              "        4663,  4664,  4665,  4666,  4667,  4668,  4669,  4670,  4671,\n",
              "        4672,  4673,  4674,  4709,  4710,  4711,  4712,  4713,  4714,\n",
              "        4715,  4716,  4717,  4718,  4719,  4720,  4721,  4722,  4723,\n",
              "        4724,  4725,  4726,  4727,  4728,  4729,  4730,  4731,  4732,\n",
              "        4733,  4734,  4735,  4736,  4737,  4738,  4739,  4740,  4741,\n",
              "        4742,  4743,  4749,  4750,  4751,  4752,  4753,  4754,  4755,\n",
              "        4756,  4757,  4758,  4759,  4760,  4761,  4762,  4763,  4764,\n",
              "        4765,  4766,  4767,  4768,  4769,  4770,  4771,  4772,  4773,\n",
              "        4774,  4775,  4776,  4940,  4944, 35424, 35425, 35426, 35427,\n",
              "       35428, 35429, 35430, 35431, 35432, 35433, 35434, 35435, 35436,\n",
              "       35437, 35438, 35439, 35440, 35441, 35442, 35443, 35444, 35445,\n",
              "       35446, 35447, 35448, 35449, 35450, 35451, 35452, 35453, 35454,\n",
              "       35455, 35456, 35457, 35458, 35459, 35460, 35461, 35462, 35463,\n",
              "       35464, 35465, 35466, 35467, 35468, 35469, 35470, 35617, 35618,\n",
              "       35619, 35620, 35621, 35622, 35623, 35624, 35625, 35626, 35627,\n",
              "       35628, 35629, 35630, 35631, 35632, 35633, 35634, 35635, 35636,\n",
              "       35637, 35638, 35639, 35640, 35641, 35642, 35643, 35644, 35645,\n",
              "       35646, 35647, 35648, 35649, 35650, 35651, 35652, 35653, 35654,\n",
              "       35655, 35656, 35657, 35658, 35659, 35660, 35661, 35662, 35663,\n",
              "       44534, 44535, 44536, 44537, 44559, 44560, 44561, 44562, 44563,\n",
              "       44564, 44565, 44566, 44567, 44568, 44575, 44576, 44577, 44578,\n",
              "       44584, 44586, 44587, 44590, 44591, 44634, 44635, 44636, 44637,\n",
              "       44638, 44639, 44642, 44643, 44644, 44645, 44646, 44647, 44648,\n",
              "       44649, 44650, 44651, 44652, 44653, 44654, 44655, 44656, 44657,\n",
              "       44658, 44659, 44660, 44661, 44662, 44663, 44664, 44665, 44666,\n",
              "       44667, 44668, 44669, 44670, 44671, 44672, 44673, 44674, 44675,\n",
              "       44676, 44677, 44678, 44679, 44680, 44681, 44682, 44683, 44684,\n",
              "       44685, 44686, 44687, 44688, 44689, 44690, 44691, 44692, 44693,\n",
              "       44694, 44695, 44696, 44697, 44698, 44699, 44700, 44701, 44702,\n",
              "       44703, 44704, 44705, 44706, 44707, 44708, 44709, 44710, 44711,\n",
              "       44712, 44713, 44714, 44715, 44716, 44717, 44718, 44719, 44720,\n",
              "       44721, 44722, 44723, 44724, 44725, 44726, 44727, 44728, 44729,\n",
              "       44730, 44731, 44732, 44733, 44734, 44735, 44736, 44737, 44738,\n",
              "       44739, 44740, 44741, 44742, 44743, 44744, 44745, 44746, 44747,\n",
              "       44748, 44749, 44750, 44751, 44752, 44753, 44754, 44755, 44756,\n",
              "       44757, 44758, 44759, 44760, 44761, 44762, 44763, 44764, 44765,\n",
              "       44766, 44767, 44768, 44769, 44770, 44771, 44772, 44773, 44774,\n",
              "       44775, 44776, 44777, 44778, 44779, 44780, 44781, 44782, 44783,\n",
              "       44784, 44785, 44786, 44787, 44788, 44789, 44790, 44791, 44792],\n",
              "      dtype=int64)"
            ]
          },
          "metadata": {},
          "output_type": "display_data"
        },
        {
          "name": "stdout",
          "output_type": "stream",
          "text": [
            "location_name\n"
          ]
        },
        {
          "data": {
            "text/plain": [
              "array(['Global', 'Southeast Asia, East Asia, and Oceania', 'East Asia',\n",
              "       'China', \"Democratic People's Republic of Korea\",\n",
              "       'Taiwan (Province of China)', 'Southeast Asia', 'Cambodia',\n",
              "       'Indonesia', \"Lao People's Democratic Republic\", 'Malaysia',\n",
              "       'Maldives', 'Myanmar', 'Philippines', 'Sri Lanka', 'Thailand',\n",
              "       'Timor-Leste', 'Viet Nam', 'Oceania', 'Fiji', 'Kiribati',\n",
              "       'Marshall Islands', 'Micronesia (Federated States of)',\n",
              "       'Papua New Guinea', 'Samoa', 'Solomon Islands', 'Tonga', 'Vanuatu',\n",
              "       'Central Europe, Eastern Europe, and Central Asia', 'Central Asia',\n",
              "       'Armenia', 'Azerbaijan', 'Georgia', 'Kazakhstan', 'Kyrgyzstan',\n",
              "       'Mongolia', 'Tajikistan', 'Turkmenistan', 'Uzbekistan',\n",
              "       'Central Europe', 'Albania', 'Bosnia and Herzegovina', 'Bulgaria',\n",
              "       'Croatia', 'Czechia', 'Hungary', 'North Macedonia', 'Montenegro',\n",
              "       'Poland', 'Romania', 'Serbia', 'Slovakia', 'Slovenia',\n",
              "       'Eastern Europe', 'Belarus', 'Estonia', 'Latvia', 'Lithuania',\n",
              "       'Republic of Moldova', 'Russian Federation', 'Ukraine',\n",
              "       'High-income', 'High-income Asia Pacific', 'Brunei Darussalam',\n",
              "       'Japan', 'Republic of Korea', 'Singapore', 'Australasia',\n",
              "       'Australia', 'New Zealand', 'Western Europe', 'Andorra', 'Austria',\n",
              "       'Belgium', 'Cyprus', 'Denmark', 'Finland', 'France', 'Germany',\n",
              "       'Greece', 'Iceland', 'Ireland', 'Israel', 'Italy', 'Luxembourg',\n",
              "       'Malta', 'Netherlands', 'Norway', 'Portugal', 'Spain', 'Sweden',\n",
              "       'Switzerland', 'United Kingdom', 'Southern Latin America',\n",
              "       'Argentina', 'Chile', 'Uruguay', 'High-income North America',\n",
              "       'Canada', 'United States of America',\n",
              "       'Latin America and Caribbean', 'Caribbean', 'Antigua and Barbuda',\n",
              "       'Bahamas', 'Barbados', 'Belize', 'Cuba', 'Dominica',\n",
              "       'Dominican Republic', 'Grenada', 'Guyana', 'Haiti', 'Jamaica',\n",
              "       'Saint Lucia', 'Saint Vincent and the Grenadines', 'Suriname',\n",
              "       'Trinidad and Tobago', 'Andean Latin America',\n",
              "       'Bolivia (Plurinational State of)', 'Ecuador', 'Peru',\n",
              "       'Central Latin America', 'Colombia', 'Costa Rica', 'El Salvador',\n",
              "       'Guatemala', 'Honduras', 'Mexico', 'Nicaragua', 'Panama',\n",
              "       'Venezuela (Bolivarian Republic of)', 'Tropical Latin America',\n",
              "       'Brazil', 'Paraguay', 'North Africa and Middle East', 'Algeria',\n",
              "       'Bahrain', 'Egypt', 'Iran (Islamic Republic of)', 'Iraq', 'Jordan',\n",
              "       'Kuwait', 'Lebanon', 'Libya', 'Morocco', 'Palestine', 'Oman',\n",
              "       'Qatar', 'Saudi Arabia', 'Syrian Arab Republic', 'Tunisia',\n",
              "       'Turkey', 'United Arab Emirates', 'Yemen', 'South Asia',\n",
              "       'Afghanistan', 'Bangladesh', 'Bhutan', 'India', 'Nepal',\n",
              "       'Pakistan', 'Sub-Saharan Africa', 'Central Sub-Saharan Africa',\n",
              "       'Angola', 'Central African Republic', 'Congo',\n",
              "       'Democratic Republic of the Congo', 'Equatorial Guinea', 'Gabon',\n",
              "       'Eastern Sub-Saharan Africa', 'Burundi', 'Comoros', 'Djibouti',\n",
              "       'Eritrea', 'Ethiopia', 'Kenya', 'Madagascar', 'Malawi',\n",
              "       'Mauritius', 'Mozambique', 'Rwanda', 'Seychelles', 'Somalia',\n",
              "       'United Republic of Tanzania', 'Uganda', 'Zambia',\n",
              "       'Southern Sub-Saharan Africa', 'Botswana', 'Lesotho', 'Namibia',\n",
              "       'South Africa', 'Eswatini', 'Zimbabwe',\n",
              "       'Western Sub-Saharan Africa', 'Benin', 'Burkina Faso', 'Cameroon',\n",
              "       'Cabo Verde', 'Chad', \"Côte d'Ivoire\", 'Gambia', 'Ghana', 'Guinea',\n",
              "       'Guinea-Bissau', 'Liberia', 'Mali', 'Mauritania', 'Niger',\n",
              "       'Nigeria', 'Sao Tome and Principe', 'Senegal', 'Sierra Leone',\n",
              "       'Togo', 'East Asia & Pacific - WB', 'Europe & Central Asia - WB',\n",
              "       'Latin America & Caribbean - WB', 'Sub-Saharan Africa - WB',\n",
              "       'Middle East & North Africa - WB', 'South Asia - WB',\n",
              "       'American Samoa', 'Bermuda', 'Cook Islands', 'Greenland', 'Guam',\n",
              "       'Monaco', 'Nauru', 'Niue', 'Northern Mariana Islands', 'Palau',\n",
              "       'Puerto Rico', 'Saint Kitts and Nevis', 'San Marino', 'Tokelau',\n",
              "       'Tuvalu', 'United States Virgin Islands', 'Northern Ireland',\n",
              "       'Scotland', 'South Sudan', 'World Bank Regions', 'WHO region',\n",
              "       'Sudan', 'Alabama', 'Alaska', 'Arizona', 'Arkansas', 'California',\n",
              "       'Colorado', 'Connecticut', 'Delaware', 'District of Columbia',\n",
              "       'Florida', 'Hawaii', 'Idaho', 'Illinois', 'Indiana', 'Iowa',\n",
              "       'Kansas', 'Kentucky', 'Louisiana', 'Maine', 'Maryland',\n",
              "       'Massachusetts', 'Michigan', 'Minnesota', 'Mississippi',\n",
              "       'Missouri', 'Montana', 'Nebraska', 'Nevada', 'New Hampshire',\n",
              "       'New Jersey', 'New Mexico', 'New York', 'North Carolina',\n",
              "       'North Dakota', 'Ohio', 'Oklahoma', 'Oregon', 'Pennsylvania',\n",
              "       'Rhode Island', 'South Carolina', 'South Dakota', 'Tennessee',\n",
              "       'Texas', 'Utah', 'Vermont', 'Virginia', 'Washington',\n",
              "       'West Virginia', 'Wisconsin', 'Wyoming', 'North East England',\n",
              "       'North West England', 'Yorkshire and the Humber', 'East Midlands',\n",
              "       'West Midlands', 'East of England', 'Greater London',\n",
              "       'South East England', 'South West England', 'Wales',\n",
              "       'Aguascalientes', 'Baja California', 'Baja California Sur',\n",
              "       'Campeche', 'Coahuila', 'Colima', 'Chiapas', 'Chihuahua',\n",
              "       'Mexico City', 'Durango', 'Guanajuato', 'Guerrero', 'Hidalgo',\n",
              "       'Jalisco', 'México', 'Michoacán de Ocampo', 'Morelos', 'Nayarit',\n",
              "       'Nuevo León', 'Oaxaca', 'Puebla', 'Querétaro', 'Quintana Roo',\n",
              "       'San Luis Potosí', 'Sinaloa', 'Sonora', 'Tabasco', 'Tamaulipas',\n",
              "       'Tlaxcala', 'Veracruz de Ignacio de la Llave', 'Yucatán',\n",
              "       'Zacatecas', 'Aceh', 'North Sumatra', 'West Sumatra', 'Riau',\n",
              "       'Jambi', 'South Sumatra', 'Bengkulu', 'Lampung',\n",
              "       'Bangka-Belitung Islands', 'Riau Islands', 'North Kalimantan',\n",
              "       'Jakarta', 'West Java', 'Central Java', 'Yogyakarta', 'East Java',\n",
              "       'Banten', 'Bali', 'West Nusa Tenggara', 'East Nusa Tenggara',\n",
              "       'West Kalimantan', 'Central Kalimantan', 'South Kalimantan',\n",
              "       'East Kalimantan', 'North Sulawesi', 'Central Sulawesi',\n",
              "       'South Sulawesi', 'Southeast Sulawesi', 'Gorontalo',\n",
              "       'West Sulawesi', 'Maluku', 'North Maluku', 'West Papua', 'Papua',\n",
              "       'European Union', 'England', 'Acre', 'Alagoas', 'Amazonas',\n",
              "       'Amapá', 'Bahia', 'Ceará', 'Distrito Federal', 'Espírito Santo',\n",
              "       'Goiás', 'Maranhão', 'Minas Gerais', 'Mato Grosso do Sul',\n",
              "       'Mato Grosso', 'Pará', 'Paraíba', 'Paraná', 'Pernambuco', 'Piaui',\n",
              "       'Rio de Janeiro', 'Rio Grande do Norte', 'Rondônia', 'Roraima',\n",
              "       'Rio Grande do Sul', 'Santa Catarina', 'Sergipe', 'São Paulo',\n",
              "       'Tocantins', 'Sweden except Stockholm', 'Stockholm', 'Hokkaidō',\n",
              "       'Aomori', 'Iwate', 'Miyagi', 'Akita', 'Yamagata', 'Fukushima',\n",
              "       'Ibaraki', 'Tochigi', 'Gunma', 'Saitama', 'Chiba', 'Tōkyō',\n",
              "       'Kanagawa', 'Niigata', 'Toyama', 'Ishikawa', 'Fukui', 'Yamanashi',\n",
              "       'Nagano', 'Gifu', 'Shizuoka', 'Aichi', 'Mie', 'Shiga', 'Kyōto',\n",
              "       'Ōsaka', 'Hyōgo', 'Nara', 'Wakayama', 'Tottori', 'Shimane',\n",
              "       'Okayama', 'Hiroshima', 'Yamaguchi', 'Tokushima', 'Kagawa',\n",
              "       'Ehime', 'Kōchi', 'Fukuoka', 'Saga', 'Nagasaki', 'Kumamoto',\n",
              "       'Ōita', 'Miyazaki', 'Kagoshima', 'Okinawa', 'Baringo', 'Bomet',\n",
              "       'Bungoma', 'Busia', 'Elgeyo-Marakwet', 'Embu', 'Garissa',\n",
              "       'HomaBay', 'Isiolo', 'Kajiado', 'Kakamega', 'Kericho', 'Kiambu',\n",
              "       'Kilifi', 'Kirinyaga', 'Kisii', 'Kisumu', 'Kitui', 'Kwale',\n",
              "       'Laikipia', 'Lamu', 'Machakos', 'Makueni', 'Mandera', 'Marsabit',\n",
              "       'Meru', 'Migori', 'Mombasa', \"Murang'a\", 'Nairobi', 'Nakuru',\n",
              "       'Nandi', 'Narok', 'Nyamira', 'Nyandarua', 'Nyeri', 'Samburu',\n",
              "       'Siaya', 'TaitaTaveta', 'TanaRiver', 'TharakaNithi', 'TransNzoia',\n",
              "       'Turkana', 'UasinGishu', 'Vihiga', 'Wajir', 'WestPokot',\n",
              "       'Commonwealth', 'Commonwealth High Income',\n",
              "       'Commonwealth Middle Income', 'Commonwealth Low Income', 'Africa',\n",
              "       'America', 'Asia', 'Europe', 'African Region',\n",
              "       'Region of the Americas', 'South-East Asia Region',\n",
              "       'European Region', 'Eastern Mediterranean Region',\n",
              "       'Western Pacific Region', 'World Bank High Income',\n",
              "       'World Bank Upper Middle Income', 'World Bank Lower Middle Income',\n",
              "       'World Bank Low Income', 'OECD Countries', 'G20', 'African Union',\n",
              "       'Four World Regions', 'World Bank Income Levels',\n",
              "       'High-middle SDI', 'High SDI', 'Low-middle SDI', 'Low SDI',\n",
              "       'North America', 'Middle SDI', 'Nordic Region', 'Darlington',\n",
              "       'Northumberland', 'Stockton-on-Tees', 'Newcastle upon Tyne',\n",
              "       'North Tyneside', 'Redcar and Cleveland', 'County Durham',\n",
              "       'Gateshead', 'Middlesbrough', 'South Tyneside', 'Sunderland',\n",
              "       'Hartlepool', 'Cheshire East', 'Stockport', 'Trafford',\n",
              "       'Cheshire West and Chester', 'Sefton', 'Lancashire', 'Cumbria',\n",
              "       'Bolton', 'Wirral', 'Bury', 'St Helens', 'Warrington', 'Oldham',\n",
              "       'Rochdale', 'Wigan', 'Halton', 'Liverpool', 'Tameside', 'Salford',\n",
              "       'Blackburn with Darwen', 'Knowsley', 'Blackpool', 'Manchester',\n",
              "       'North Yorkshire', 'East Riding of Yorkshire', 'York',\n",
              "       'North East Lincolnshire', 'Calderdale', 'North Lincolnshire',\n",
              "       'Bradford', 'Kirklees', 'Leeds', 'Sheffield', 'Wakefield',\n",
              "       'Rotherham', 'Doncaster', 'Kingston upon Hull, City of',\n",
              "       'Barnsley', 'Northamptonshire', 'Leicestershire', 'Lincolnshire',\n",
              "       'Rutland', 'Derby', 'Derbyshire', 'Nottinghamshire', 'Nottingham',\n",
              "       'Leicester', 'Warwickshire', 'Herefordshire, County of',\n",
              "       'Solihull', 'Shropshire', 'Worcestershire', 'Staffordshire',\n",
              "       'Dudley', 'Coventry', 'Telford and Wrekin', 'Stoke-on-Trent',\n",
              "       'Walsall', 'Wolverhampton', 'Birmingham', 'Sandwell', 'Bedford',\n",
              "       'Central Bedfordshire', 'Suffolk', 'Hertfordshire', 'Essex',\n",
              "       'Cambridgeshire', 'Thurrock', 'Norfolk', 'Southend-on-Sea',\n",
              "       'Peterborough', 'Luton', 'Richmond upon Thames',\n",
              "       'Kensington and Chelsea', 'Barnet', 'Westminster', 'Bromley',\n",
              "       'Bexley', 'Redbridge', 'Merton', 'Brent', 'Hillingdon', 'Havering',\n",
              "       'Kingston upon Thames', 'Sutton', 'Harrow', 'Enfield', 'Croydon',\n",
              "       'Hammersmith and Fulham', 'Ealing', 'Greenwich', 'Wandsworth',\n",
              "       'Waltham Forest', 'Camden', 'Lambeth', 'Lewisham', 'Hounslow',\n",
              "       'Southwark', 'Newham', 'Barking and Dagenham', 'Haringey',\n",
              "       'Hackney', 'Islington', 'Tower Hamlets', 'Wokingham',\n",
              "       'Buckinghamshire', 'Surrey', 'Windsor and Maidenhead',\n",
              "       'West Berkshire', 'Hampshire', 'Bracknell Forest', 'West Sussex',\n",
              "       'Oxfordshire', 'Reading', 'Kent', 'Brighton and Hove', 'Medway',\n",
              "       'East Sussex', 'Portsmouth', 'Isle of Wight', 'Milton Keynes',\n",
              "       'Southampton', 'Slough', 'South Gloucestershire', 'Dorset',\n",
              "       'Wiltshire', 'North Somerset', 'Devon', 'Poole',\n",
              "       'Bath and North East Somerset', 'Gloucestershire', 'Somerset',\n",
              "       'Swindon', 'Torbay', 'Bristol, City of', 'Bournemouth', 'Cornwall',\n",
              "       'Plymouth'], dtype=object)"
            ]
          },
          "metadata": {},
          "output_type": "display_data"
        },
        {
          "name": "stdout",
          "output_type": "stream",
          "text": [
            "sex_id\n"
          ]
        },
        {
          "data": {
            "text/plain": [
              "array([1, 2, 3], dtype=int64)"
            ]
          },
          "metadata": {},
          "output_type": "display_data"
        },
        {
          "name": "stdout",
          "output_type": "stream",
          "text": [
            "sex_name\n"
          ]
        },
        {
          "data": {
            "text/plain": [
              "array(['male', 'female', 'both'], dtype=object)"
            ]
          },
          "metadata": {},
          "output_type": "display_data"
        },
        {
          "name": "stdout",
          "output_type": "stream",
          "text": [
            "age_group_id\n"
          ]
        },
        {
          "data": {
            "text/plain": [
              "array([  1,   2,   3,   4,   5,   6,   7,   8,   9,  10,  11,  12,  13,\n",
              "        14,  15,  16,  17,  18,  19,  20,  21,  22,  23,  24,  25,  26,\n",
              "        28,  30,  31,  32,  39,  42, 157, 158, 159, 162, 164, 235, 188,\n",
              "       197, 206, 232, 243,  37, 228, 234, 160], dtype=int64)"
            ]
          },
          "metadata": {},
          "output_type": "display_data"
        },
        {
          "name": "stdout",
          "output_type": "stream",
          "text": [
            "age_group_name\n"
          ]
        },
        {
          "data": {
            "text/plain": [
              "array(['Under 5', 'Early Neonatal', 'Late Neonatal', 'Post Neonatal',\n",
              "       '1 to 4', '5 to 9', '10 to 14', '15 to 19', '20 to 24', '25 to 29',\n",
              "       '30 to 34', '35 to 39', '40 to 44', '45 to 49', '50 to 54',\n",
              "       '55 to 59', '60 to 64', '65 to 69', '70 to 74', '75 to 79',\n",
              "       '80 plus', 'All Ages', '5-14 years', '15-49 years', '50-69 years',\n",
              "       '70+ years', '<1 year', '80 to 84', '85 to 89', '90 to 94',\n",
              "       '0 to 14', 'Neonatal', '25 plus', '<20 years', '10 to 24',\n",
              "       '10 to 19', 'Birth', '95 plus', '5 to 19', '15 to 39', '25 to 49',\n",
              "       '65 to 74', '75 to 84', '20 plus', '55 plus', '75 plus', '85 plus'],\n",
              "      dtype=object)"
            ]
          },
          "metadata": {},
          "output_type": "display_data"
        },
        {
          "name": "stdout",
          "output_type": "stream",
          "text": [
            "year_id\n"
          ]
        },
        {
          "data": {
            "text/plain": [
              "array([2010, 2011, 2012, 2013, 2014, 2015, 2016, 2017, 2018, 2019],\n",
              "      dtype=int64)"
            ]
          },
          "metadata": {},
          "output_type": "display_data"
        },
        {
          "name": "stdout",
          "output_type": "stream",
          "text": [
            "measure_id\n"
          ]
        },
        {
          "data": {
            "text/plain": [
              "array([44], dtype=int64)"
            ]
          },
          "metadata": {},
          "output_type": "display_data"
        },
        {
          "name": "stdout",
          "output_type": "stream",
          "text": [
            "measure_name\n"
          ]
        },
        {
          "data": {
            "text/plain": [
              "array(['Population'], dtype=object)"
            ]
          },
          "metadata": {},
          "output_type": "display_data"
        },
        {
          "name": "stdout",
          "output_type": "stream",
          "text": [
            "metric_id\n"
          ]
        },
        {
          "data": {
            "text/plain": [
              "array([1], dtype=int64)"
            ]
          },
          "metadata": {},
          "output_type": "display_data"
        },
        {
          "name": "stdout",
          "output_type": "stream",
          "text": [
            "metric_name\n"
          ]
        },
        {
          "data": {
            "text/plain": [
              "array(['Number'], dtype=object)"
            ]
          },
          "metadata": {},
          "output_type": "display_data"
        },
        {
          "name": "stdout",
          "output_type": "stream",
          "text": [
            "val\n"
          ]
        },
        {
          "data": {
            "text/plain": [
              "array([3.36538477e+08, 1.34830096e+06, 3.99385814e+06, ...,\n",
              "       1.49859843e+05, 1.41944147e+05, 2.91803990e+05])"
            ]
          },
          "metadata": {},
          "output_type": "display_data"
        },
        {
          "name": "stdout",
          "output_type": "stream",
          "text": [
            "upper\n"
          ]
        },
        {
          "data": {
            "text/plain": [
              "array([3.42899131e+08, 1.37372147e+06, 4.06927487e+06, ...,\n",
              "       1.64273650e+05, 1.55607486e+05, 3.19881136e+05])"
            ]
          },
          "metadata": {},
          "output_type": "display_data"
        },
        {
          "name": "stdout",
          "output_type": "stream",
          "text": [
            "lower\n"
          ]
        },
        {
          "data": {
            "text/plain": [
              "array([3.29991007e+08, 1.32250311e+06, 3.91773029e+06, ...,\n",
              "       1.36992870e+05, 1.29748176e+05, 2.66741046e+05])"
            ]
          },
          "metadata": {},
          "output_type": "display_data"
        }
      ],
      "source": [
        "for column in population.columns:\n",
        "    print(column)\n",
        "    display(population[column].unique())"
      ]
    },
    {
      "cell_type": "markdown",
      "metadata": {
        "id": "SFkske4QpBen"
      },
      "source": [
        "## Data harmonization"
      ]
    },
    {
      "cell_type": "markdown",
      "metadata": {
        "id": "z6qV1dVGpBeo"
      },
      "source": [
        "deaths and risks preprocessing (sex, metric, measure filtering)"
      ]
    },
    {
      "cell_type": "code",
      "execution_count": null,
      "metadata": {
        "id": "DhHjH9IrpBeo",
        "outputId": "b323ca6d-9c23-4395-abeb-72e293e6babd"
      },
      "outputs": [
        {
          "name": "stdout",
          "output_type": "stream",
          "text": [
            "deaths_by_causes sex_id ['Male', 'Female']\n",
            "deaths_by_causes metric_id ['Number']\n",
            "deaths_by_causes measure_id ['Deaths']\n",
            "risk_factors sex_id ['Male', 'Female']\n",
            "risk_factors metric_id ['Number']\n",
            "risk_factors measure_id ['Deaths']\n"
          ]
        }
      ],
      "source": [
        "for name, df in zip(\n",
        "    ['deaths_by_causes', 'risk_factors'],\n",
        "    [causes_all_countries_2019, risk_all_countries_2019]\n",
        "):\n",
        "    for column in ['sex_id', 'metric_id', 'measure_id']:\n",
        "        print(\n",
        "            name, column,\n",
        "            [\n",
        "                {k:v for v, k in name_to_id_mappings[column].items()}[str(x)]\n",
        "                for x in df[column].unique()\n",
        "            ]\n",
        "        )"
      ]
    },
    {
      "cell_type": "markdown",
      "metadata": {
        "id": "TMVrpog6pBeo"
      },
      "source": [
        "age groups names preprocessing (convert to start age)"
      ]
    },
    {
      "cell_type": "code",
      "execution_count": null,
      "metadata": {
        "id": "tlpo-xxSpBeo",
        "outputId": "24560370-d7fa-4a50-9992-8ca4af9954a9"
      },
      "outputs": [
        {
          "data": {
            "text/plain": [
              "array(['Under 5', 'Early Neonatal', 'Late Neonatal', 'Post Neonatal',\n",
              "       '1 to 4', '5 to 9', '10 to 14', '15 to 19', '20 to 24', '25 to 29',\n",
              "       '30 to 34', '35 to 39', '40 to 44', '45 to 49', '50 to 54',\n",
              "       '55 to 59', '60 to 64', '65 to 69', '70 to 74', '75 to 79',\n",
              "       '80 plus', 'All Ages', '5-14 years', '15-49 years', '50-69 years',\n",
              "       '70+ years', 'Age-standardized', '<1 year', '80 to 84', '85 to 89',\n",
              "       '90 to 94', '20 plus', '0 to 14', '50 to 74 years', 'Neonatal',\n",
              "       '25 plus', '<20 years', '10 to 24', '85 plus', 'Birth', '10 to 54',\n",
              "       '0 to 9', '5 to 19', '15 to 39', '25 to 49', '55 plus', '60 to 79',\n",
              "       '65 to 74', '75 plus', '95 plus', '75 to 84', '20 to 54 years',\n",
              "       '55 to 89 years', '60 to 89 years', '65 to 89 years',\n",
              "       '70 to 89 years', '75 to 94 years', '<70 years', nan], dtype=object)"
            ]
          },
          "execution_count": 41,
          "metadata": {},
          "output_type": "execute_result"
        }
      ],
      "source": [
        "code_book.age_group_name.unique()"
      ]
    },
    {
      "cell_type": "code",
      "execution_count": null,
      "metadata": {
        "id": "c8SIDcGDpBep",
        "outputId": "20df565b-7060-4808-ff86-7abd2b2dd24a"
      },
      "outputs": [
        {
          "data": {
            "text/plain": [
              "array(['1-4 years', '5-9 years', '10-14 years', '15-19 years',\n",
              "       '20-24 years', '25-29 years', '30-34 years', '35-39 years',\n",
              "       '40-44 years', '45-49 years', '50-54 years', '55-59 years',\n",
              "       '60-64 years', '65-69 years', '70-74 years', '75-79 years',\n",
              "       '<1 year', '80-84 years', '85-89 years', '90-94 years',\n",
              "       '95+ years'], dtype=object)"
            ]
          },
          "execution_count": 39,
          "metadata": {},
          "output_type": "execute_result"
        }
      ],
      "source": [
        "causes_all_countries_2019.age_name.unique()"
      ]
    },
    {
      "cell_type": "code",
      "execution_count": null,
      "metadata": {
        "id": "BH0HhO39pBep",
        "outputId": "2036e4aa-9188-4a3e-c56a-d526196c8bce"
      },
      "outputs": [
        {
          "data": {
            "text/plain": [
              "array(['Under 5', 'Early Neonatal', 'Late Neonatal', 'Post Neonatal',\n",
              "       '1 to 4', '5 to 9', '10 to 14', '15 to 19', '20 to 24', '25 to 29',\n",
              "       '30 to 34', '35 to 39', '40 to 44', '45 to 49', '50 to 54',\n",
              "       '55 to 59', '60 to 64', '65 to 69', '70 to 74', '75 to 79',\n",
              "       '80 plus', 'All Ages', '5-14 years', '15-49 years', '50-69 years',\n",
              "       '70+ years', '<1 year', '80 to 84', '85 to 89', '90 to 94',\n",
              "       '0 to 14', 'Neonatal', '25 plus', '<20 years', '10 to 24',\n",
              "       '10 to 19', 'Birth', '95 plus', '5 to 19', '15 to 39', '25 to 49',\n",
              "       '65 to 74', '75 to 84', '20 plus', '55 plus', '75 plus', '85 plus'],\n",
              "      dtype=object)"
            ]
          },
          "execution_count": 40,
          "metadata": {},
          "output_type": "execute_result"
        }
      ],
      "source": [
        "population.age_group_name.unique()"
      ]
    },
    {
      "cell_type": "code",
      "execution_count": null,
      "metadata": {
        "id": "I7xxnRngpBep",
        "outputId": "5b2c91f5-9cfc-4572-b7cc-7168cfa6c93f"
      },
      "outputs": [
        {
          "data": {
            "text/plain": [
              "array(['25-29 years', '30-34 years', '35-39 years', '40-44 years',\n",
              "       '45-49 years', '50-54 years', '55-59 years', '60-64 years',\n",
              "       '65-69 years', '70-74 years', '75-79 years', '80-84 years',\n",
              "       '85-89 years', '90-94 years', '95+ years', '10-14 years',\n",
              "       '15-19 years', '20-24 years', '<1 year', '1-4 years', '5-9 years'],\n",
              "      dtype=object)"
            ]
          },
          "execution_count": 41,
          "metadata": {},
          "output_type": "execute_result"
        }
      ],
      "source": [
        "risk_all_countries_2019.age_name.unique()"
      ]
    },
    {
      "cell_type": "code",
      "execution_count": null,
      "metadata": {
        "id": "vD_WNX0MpBep",
        "outputId": "a96133a0-27df-4efc-8b90-557417a8cae4"
      },
      "outputs": [
        {
          "data": {
            "text/plain": [
              "array(['25 to 29', '30 to 34', '35 to 39', '40 to 44', '45 to 49',\n",
              "       '50 to 54', '55 to 59', '60 to 64', '65 to 69', '70 to 74',\n",
              "       '75 to 79', '80 to 84', '85 to 89', '90 to 94', '95 plus',\n",
              "       '10 to 14', '15 to 19', '20 to 24', '<1 year', '1 to 4', '5 to 9'],\n",
              "      dtype=object)"
            ]
          },
          "execution_count": 42,
          "metadata": {},
          "output_type": "execute_result"
        }
      ],
      "source": [
        "(\n",
        "    risk_all_countries_2019.age_id.astype('str')\n",
        "    .map({key: value for value, key in age_name_to_id.items()})\n",
        "    .unique()\n",
        ")"
      ]
    },
    {
      "cell_type": "code",
      "execution_count": null,
      "metadata": {
        "id": "6APGiZ8qpBeq",
        "outputId": "f9a0ba8c-3768-41a7-f6a0-0cb06c988747"
      },
      "outputs": [
        {
          "data": {
            "text/plain": [
              "{'28': 0,\n",
              " '5': 1,\n",
              " '6': 5,\n",
              " '7': 10,\n",
              " '8': 15,\n",
              " '9': 20,\n",
              " '10': 25,\n",
              " '11': 30,\n",
              " '12': 35,\n",
              " '13': 40,\n",
              " '14': 45,\n",
              " '15': 50,\n",
              " '16': 55,\n",
              " '17': 60,\n",
              " '18': 65,\n",
              " '19': 70,\n",
              " '20': 75,\n",
              " '30': 80,\n",
              " '31': 85,\n",
              " '32': 90,\n",
              " '235': 95}"
            ]
          },
          "execution_count": 42,
          "metadata": {},
          "output_type": "execute_result"
        }
      ],
      "source": [
        "age_group_name_to_start_age_int = {\n",
        "    '<1 year': 0,\n",
        "    '1 to 4': 1,\n",
        "    '5 to 9': 5,\n",
        "    '10 to 14': 10,\n",
        "    '15 to 19': 15,\n",
        "    '20 to 24': 20,\n",
        "    '25 to 29': 25,\n",
        "    '30 to 34': 30,\n",
        "    '35 to 39': 35,\n",
        "    '40 to 44': 40,\n",
        "    '45 to 49': 45,\n",
        "    '50 to 54': 50,\n",
        "    '55 to 59': 55,\n",
        "    '60 to 64': 60,\n",
        "    '65 to 69': 65,\n",
        "    '70 to 74': 70,\n",
        "    '75 to 79': 75,    \n",
        "    '80 to 84': 80,\n",
        "    '85 to 89': 85,\n",
        "    '90 to 94': 90,\n",
        "    '95 plus': 95,\n",
        "}\n",
        "\n",
        "age_group_id_to_start_age_int = {\n",
        "    age_name_to_id[key]: value for key, value in age_group_name_to_start_age_int.items() \n",
        "}\n",
        "\n",
        "age_group_id_to_start_age_int"
      ]
    },
    {
      "cell_type": "code",
      "execution_count": null,
      "metadata": {
        "id": "EtBcQW5BpBeq"
      },
      "outputs": [],
      "source": [
        "def age_group_names_preprocessing(\n",
        "    df: pd.DataFrame,\n",
        "    age_group_id_column_name: str,\n",
        "    age_group_id_to_start_age_int: dict={\n",
        "        '28': 0,\n",
        "        '5': 1,\n",
        "        '6': 5,\n",
        "        '7': 10,\n",
        "        '8': 15,\n",
        "        '9': 20,\n",
        "        '10': 25,\n",
        "        '11': 30,\n",
        "        '12': 35,\n",
        "        '13': 40,\n",
        "        '14': 45,\n",
        "        '15': 50,\n",
        "        '16': 55,\n",
        "        '17': 60,\n",
        "        '18': 65,\n",
        "        '19': 70,\n",
        "        '20': 75,\n",
        "        '30': 80,\n",
        "        '31': 85,\n",
        "        '32': 90,\n",
        "        '235': 95\n",
        "    },\n",
        ") -> pd.DataFrame:\n",
        "    result = df.query(\n",
        "        f'{age_group_id_column_name}.astype(\"str\") in @age_group_id_to_start_age_int.keys()'\n",
        "    ).copy()\n",
        "\n",
        "    result['age_group_start'] = (\n",
        "        result[age_group_id_column_name]\n",
        "        .astype('str').map(age_group_id_to_start_age_int)\n",
        "    )\n",
        "\n",
        "    return result"
      ]
    },
    {
      "cell_type": "code",
      "execution_count": null,
      "metadata": {
        "id": "DGENoTJ9pBeq"
      },
      "outputs": [],
      "source": [
        "risk_all_countries_2019 = age_group_names_preprocessing(\n",
        "    df=risk_all_countries_2019,\n",
        "    age_group_id_column_name='age_id'\n",
        ").copy()\n",
        "\n",
        "causes_all_countries_2019 = age_group_names_preprocessing(\n",
        "    df=causes_all_countries_2019,\n",
        "    age_group_id_column_name='age_id'\n",
        ").copy()\n",
        "\n",
        "population = age_group_names_preprocessing(\n",
        "    df=population,\n",
        "    age_group_id_column_name='age_group_id'\n",
        ").copy()\n",
        "\n",
        "life_expectancy = age_group_names_preprocessing(\n",
        "    df=life_expectancy,\n",
        "    age_group_id_column_name='age_group_id'\n",
        ").copy()"
      ]
    },
    {
      "cell_type": "code",
      "execution_count": null,
      "metadata": {
        "id": "ciWzN7JHpBeq",
        "outputId": "c2a04101-5ca0-4761-c91c-bb62f82f3a46"
      },
      "outputs": [
        {
          "data": {
            "text/plain": [
              "Index(['measure_id', 'measure_name', 'location_id', 'location_name', 'sex_id',\n",
              "       'sex_name', 'age_id', 'age_name', 'cause_id', 'cause_name', 'metric_id',\n",
              "       'metric_name', 'year', 'val', 'upper', 'lower', 'age_group_start'],\n",
              "      dtype='object')"
            ]
          },
          "execution_count": 45,
          "metadata": {},
          "output_type": "execute_result"
        }
      ],
      "source": [
        "causes_all_countries_2019.columns"
      ]
    },
    {
      "cell_type": "markdown",
      "metadata": {
        "id": "wAGu7wzGpBer"
      },
      "source": [
        "## Data filtering"
      ]
    },
    {
      "cell_type": "markdown",
      "metadata": {
        "id": "cYN4S_ETpBer"
      },
      "source": [
        "causes of deaths select detalization level"
      ]
    },
    {
      "cell_type": "code",
      "execution_count": null,
      "metadata": {
        "id": "kxgR6ed9pBer"
      },
      "outputs": [],
      "source": [
        "causes_names_level_3 = causes_ierarchy.query('level == 3').cause_name.unique()"
      ]
    },
    {
      "cell_type": "code",
      "execution_count": null,
      "metadata": {
        "id": "ELjGjffjpBer",
        "outputId": "13ef3496-d456-4f5b-8fcf-3dffe24e337e"
      },
      "outputs": [
        {
          "name": "stdout",
          "output_type": "stream",
          "text": [
            "169\n"
          ]
        },
        {
          "data": {
            "text/plain": [
              "[array(['Rheumatoid arthritis', 'Cardiomyopathy and myocarditis',\n",
              "        'Chronic kidney disease', 'Urticaria',\n",
              "        'Other cardiovascular and circulatory diseases', 'Road injuries',\n",
              "        'Dengue', 'Self-harm', 'Endocarditis', 'Diabetes mellitus',\n",
              "        'Larynx cancer', 'Guinea worm disease', 'Non-melanoma skin cancer',\n",
              "        'Stomach cancer', 'Guinea worm disease',\n",
              "        'Brain and central nervous system cancer',\n",
              "        'Interpersonal violence', 'Inflammatory bowel disease',\n",
              "        'Anxiety disorders', 'Food-borne trematodiases',\n",
              "        'Multiple sclerosis', 'Esophageal cancer',\n",
              "        'Dietary iron deficiency', 'HIV/AIDS', 'Oral disorders',\n",
              "        'Fungal skin diseases', 'Other skin and subcutaneous diseases',\n",
              "        'Alcohol use disorders',\n",
              "        'Paralytic ileus and intestinal obstruction', 'Diarrheal diseases'],\n",
              "       dtype=object)]"
            ]
          },
          "execution_count": 47,
          "metadata": {},
          "output_type": "execute_result"
        }
      ],
      "source": [
        "print(len(causes_names_level_3))\n",
        "[np.random.choice(causes_names_level_3, 30)]"
      ]
    },
    {
      "cell_type": "code",
      "execution_count": null,
      "metadata": {
        "id": "kS-YAdOppBer",
        "outputId": "2910e590-1549-4343-8165-41267b3f687a"
      },
      "outputs": [
        {
          "data": {
            "text/plain": [
              "169"
            ]
          },
          "execution_count": 48,
          "metadata": {},
          "output_type": "execute_result"
        }
      ],
      "source": [
        "causes_id_level_3 = [int(cause_name_to_id[x]) for x in causes_names_level_3]\n",
        "len(causes_id_level_3)"
      ]
    },
    {
      "cell_type": "code",
      "execution_count": null,
      "metadata": {
        "id": "Wl4og3BzpBes",
        "outputId": "e6b36c31-36ac-434a-8a7d-0f787cb183e8"
      },
      "outputs": [
        {
          "name": "stdout",
          "output_type": "stream",
          "text": [
            "location_name\n"
          ]
        },
        {
          "data": {
            "text/plain": [
              "array(['Vanuatu', 'Switzerland', 'Colombia', 'Costa Rica', 'Uganda',\n",
              "       'Russian Federation', 'Maldives', 'Myanmar', 'Denmark', 'Croatia',\n",
              "       'Egypt', 'Yemen', 'Cuba', 'Dominica', 'Armenia', 'United Kingdom',\n",
              "       'Gabon', 'Ukraine', 'Czechia', 'Finland', 'Zambia', 'Gambia',\n",
              "       'Iran (Islamic Republic of)', 'Puerto Rico',\n",
              "       'Saint Kitts and Nevis', 'El Salvador', 'Dominican Republic',\n",
              "       \"Côte d'Ivoire\", 'Sweden', 'Azerbaijan', 'Sudan', 'American Samoa',\n",
              "       'Philippines', 'Iraq', 'Argentina', 'Sri Lanka', 'Afghanistan',\n",
              "       'France', 'Burundi', 'Hungary', 'North Macedonia', 'San Marino',\n",
              "       'Ghana', 'Bermuda', 'Brunei Darussalam', 'Guinea', 'Guatemala',\n",
              "       'Jordan', 'Grenada', 'Georgia', 'China', 'Honduras', 'Thailand',\n",
              "       'Germany', 'Botswana', 'Tokelau', 'Greece', 'Guyana', 'Haiti',\n",
              "       'Bhutan', 'Uruguay', 'Liberia', 'Comoros', 'Lesotho', 'Kyrgyzstan',\n",
              "       'Bangladesh', 'Montenegro', 'Greenland', 'Chile', 'Poland',\n",
              "       'Iceland', \"Democratic People's Republic of Korea\", 'Djibouti',\n",
              "       'Mexico', 'Namibia', 'Lebanon', 'Japan',\n",
              "       'Taiwan (Province of China)', 'India', 'Kazakhstan', 'Kuwait',\n",
              "       'South Africa', 'Ireland', 'Guinea-Bissau', 'Cook Islands',\n",
              "       'Tuvalu', 'Mongolia', 'United States Virgin Islands',\n",
              "       'Timor-Leste', 'Nepal', 'Eritrea', 'Romania', 'Canada', 'Jamaica',\n",
              "       'Saint Lucia', 'Singapore', 'Republic of Korea', 'Serbia',\n",
              "       'Viet Nam', 'Guam', 'Libya', 'Morocco', 'Nicaragua', 'Cambodia',\n",
              "       'Ethiopia', 'Tajikistan', 'Mali', 'Kenya', 'Panama', 'Eswatini',\n",
              "       'Zimbabwe', 'Israel', 'Pakistan', 'Niger', 'Fiji', 'Mauritania',\n",
              "       'United States of America', 'Turkmenistan', 'South Sudan',\n",
              "       'Venezuela (Bolivarian Republic of)', 'Madagascar', 'Italy',\n",
              "       'Australia', 'Palestine', 'Slovakia',\n",
              "       'Saint Vincent and the Grenadines', 'Kiribati', 'Indonesia',\n",
              "       'Monaco', 'Suriname', 'New Zealand', 'Slovenia', 'Angola',\n",
              "       'Brazil', 'Nigeria', 'Oman', 'Malawi', 'Benin', 'Marshall Islands',\n",
              "       \"Lao People's Democratic Republic\", 'Luxembourg',\n",
              "       'Central African Republic', 'Uzbekistan', 'Nauru',\n",
              "       'Trinidad and Tobago', 'Sao Tome and Principe', 'Niue', 'Malaysia',\n",
              "       'Antigua and Barbuda', 'Burkina Faso', 'Qatar', 'Mauritius',\n",
              "       'Paraguay', 'Senegal', 'Malta', 'Belarus', 'Andorra',\n",
              "       'Micronesia (Federated States of)',\n",
              "       'Bolivia (Plurinational State of)', 'Albania', 'Saudi Arabia',\n",
              "       'Algeria', 'Bahamas', 'Cameroon', 'Austria',\n",
              "       'Northern Mariana Islands', 'Congo', 'Papua New Guinea',\n",
              "       'Netherlands', 'Ecuador', 'Mozambique', 'Rwanda', 'Sierra Leone',\n",
              "       'Democratic Republic of the Congo', 'Estonia', 'Barbados',\n",
              "       'Syrian Arab Republic', 'Bosnia and Herzegovina', 'Cabo Verde',\n",
              "       'Palau', 'Norway', 'Belgium', 'Samoa', 'Bahrain',\n",
              "       'Equatorial Guinea', 'Latvia', 'Solomon Islands', 'Peru', 'Belize',\n",
              "       'Tunisia', 'Togo', 'Cyprus', 'Portugal', 'Seychelles', 'Bulgaria',\n",
              "       'Turkey', 'Lithuania', 'Republic of Moldova', 'Chad', 'Tonga',\n",
              "       'Somalia', 'Spain', 'United Arab Emirates',\n",
              "       'United Republic of Tanzania'], dtype=object)"
            ]
          },
          "metadata": {},
          "output_type": "display_data"
        },
        {
          "name": "stdout",
          "output_type": "stream",
          "text": [
            "sex_name\n"
          ]
        },
        {
          "data": {
            "text/plain": [
              "array(['Male', 'Female'], dtype=object)"
            ]
          },
          "metadata": {},
          "output_type": "display_data"
        },
        {
          "name": "stdout",
          "output_type": "stream",
          "text": [
            "age_name\n"
          ]
        },
        {
          "data": {
            "text/plain": [
              "array(['1-4 years', '5-9 years', '10-14 years', '15-19 years',\n",
              "       '20-24 years', '25-29 years', '30-34 years', '35-39 years',\n",
              "       '40-44 years', '45-49 years', '50-54 years', '55-59 years',\n",
              "       '60-64 years', '65-69 years', '70-74 years', '75-79 years',\n",
              "       '<1 year', '80-84 years', '85-89 years', '90-94 years',\n",
              "       '95+ years'], dtype=object)"
            ]
          },
          "metadata": {},
          "output_type": "display_data"
        },
        {
          "name": "stdout",
          "output_type": "stream",
          "text": [
            "measure_name\n"
          ]
        },
        {
          "data": {
            "text/plain": [
              "array(['Deaths'], dtype=object)"
            ]
          },
          "metadata": {},
          "output_type": "display_data"
        },
        {
          "name": "stdout",
          "output_type": "stream",
          "text": [
            "metric_name\n"
          ]
        },
        {
          "data": {
            "text/plain": [
              "array(['Number'], dtype=object)"
            ]
          },
          "metadata": {},
          "output_type": "display_data"
        },
        {
          "name": "stdout",
          "output_type": "stream",
          "text": [
            "year\n"
          ]
        },
        {
          "data": {
            "text/plain": [
              "array([2019], dtype=int64)"
            ]
          },
          "metadata": {},
          "output_type": "display_data"
        }
      ],
      "source": [
        "causes_all_countries_2019_preprocessed = causes_all_countries_2019.query('cause_id in @causes_id_level_3')\n",
        "\n",
        "for column in ['location_name', 'sex_name', 'age_name', 'measure_name', 'metric_name', 'year']:\n",
        "\n",
        "    print(column)\n",
        "    display(causes_all_countries_2019_preprocessed[column].unique())"
      ]
    },
    {
      "cell_type": "markdown",
      "metadata": {
        "id": "v2O4nkfJpBes"
      },
      "source": [
        "risk factors most detailed select"
      ]
    },
    {
      "cell_type": "code",
      "execution_count": null,
      "metadata": {
        "id": "nlDwPf9FpBes",
        "outputId": "0ea2c6cc-af68-43e2-c767-74a98324dcf0"
      },
      "outputs": [
        {
          "data": {
            "text/html": [
              "<div>\n",
              "<style scoped>\n",
              "    .dataframe tbody tr th:only-of-type {\n",
              "        vertical-align: middle;\n",
              "    }\n",
              "\n",
              "    .dataframe tbody tr th {\n",
              "        vertical-align: top;\n",
              "    }\n",
              "\n",
              "    .dataframe thead th {\n",
              "        text-align: right;\n",
              "    }\n",
              "</style>\n",
              "<table border=\"1\" class=\"dataframe\">\n",
              "  <thead>\n",
              "    <tr style=\"text-align: right;\">\n",
              "      <th></th>\n",
              "      <th>rei_id</th>\n",
              "      <th>rei_name</th>\n",
              "      <th>parent_id</th>\n",
              "      <th>parent_name</th>\n",
              "      <th>level</th>\n",
              "      <th>sort_order</th>\n",
              "    </tr>\n",
              "  </thead>\n",
              "  <tbody>\n",
              "    <tr>\n",
              "      <th>0</th>\n",
              "      <td>169</td>\n",
              "      <td>All risk factors</td>\n",
              "      <td>169</td>\n",
              "      <td>All risk factors</td>\n",
              "      <td>0</td>\n",
              "      <td>1.0</td>\n",
              "    </tr>\n",
              "    <tr>\n",
              "      <th>4</th>\n",
              "      <td>171</td>\n",
              "      <td>Etiologies</td>\n",
              "      <td>171</td>\n",
              "      <td>Etiologies</td>\n",
              "      <td>0</td>\n",
              "      <td>5.0</td>\n",
              "    </tr>\n",
              "    <tr>\n",
              "      <th>5</th>\n",
              "      <td>191</td>\n",
              "      <td>Impairments</td>\n",
              "      <td>191</td>\n",
              "      <td>Impairments</td>\n",
              "      <td>0</td>\n",
              "      <td>6.0</td>\n",
              "    </tr>\n",
              "    <tr>\n",
              "      <th>6</th>\n",
              "      <td>362</td>\n",
              "      <td>Injuries</td>\n",
              "      <td>362</td>\n",
              "      <td>Injuries</td>\n",
              "      <td>0</td>\n",
              "      <td>7.0</td>\n",
              "    </tr>\n",
              "    <tr>\n",
              "      <th>146</th>\n",
              "      <td>298</td>\n",
              "      <td>Amputations</td>\n",
              "      <td>298</td>\n",
              "      <td>Amputations</td>\n",
              "      <td>0</td>\n",
              "      <td>148.0</td>\n",
              "    </tr>\n",
              "    <tr>\n",
              "      <th>154</th>\n",
              "      <td>299</td>\n",
              "      <td>Burns</td>\n",
              "      <td>299</td>\n",
              "      <td>Burns</td>\n",
              "      <td>0</td>\n",
              "      <td>156.0</td>\n",
              "    </tr>\n",
              "    <tr>\n",
              "      <th>158</th>\n",
              "      <td>300</td>\n",
              "      <td>Fractures</td>\n",
              "      <td>300</td>\n",
              "      <td>Fractures</td>\n",
              "      <td>0</td>\n",
              "      <td>160.0</td>\n",
              "    </tr>\n",
              "    <tr>\n",
              "      <th>171</th>\n",
              "      <td>301</td>\n",
              "      <td>Head Injuries</td>\n",
              "      <td>301</td>\n",
              "      <td>Head Injuries</td>\n",
              "      <td>0</td>\n",
              "      <td>173.0</td>\n",
              "    </tr>\n",
              "    <tr>\n",
              "      <th>174</th>\n",
              "      <td>302</td>\n",
              "      <td>Spinal Injuries</td>\n",
              "      <td>302</td>\n",
              "      <td>Spinal Injuries</td>\n",
              "      <td>0</td>\n",
              "      <td>176.0</td>\n",
              "    </tr>\n",
              "    <tr>\n",
              "      <th>177</th>\n",
              "      <td>303</td>\n",
              "      <td>Minor Injuries</td>\n",
              "      <td>303</td>\n",
              "      <td>Minor Injuries</td>\n",
              "      <td>0</td>\n",
              "      <td>179.0</td>\n",
              "    </tr>\n",
              "    <tr>\n",
              "      <th>183</th>\n",
              "      <td>304</td>\n",
              "      <td>Other Injuries</td>\n",
              "      <td>304</td>\n",
              "      <td>Other Injuries</td>\n",
              "      <td>0</td>\n",
              "      <td>185.0</td>\n",
              "    </tr>\n",
              "  </tbody>\n",
              "</table>\n",
              "</div>"
            ],
            "text/plain": [
              "     rei_id          rei_name  parent_id       parent_name  level  sort_order\n",
              "0       169  All risk factors        169  All risk factors      0         1.0\n",
              "4       171        Etiologies        171        Etiologies      0         5.0\n",
              "5       191       Impairments        191       Impairments      0         6.0\n",
              "6       362          Injuries        362          Injuries      0         7.0\n",
              "146     298       Amputations        298       Amputations      0       148.0\n",
              "154     299             Burns        299             Burns      0       156.0\n",
              "158     300         Fractures        300         Fractures      0       160.0\n",
              "171     301     Head Injuries        301     Head Injuries      0       173.0\n",
              "174     302   Spinal Injuries        302   Spinal Injuries      0       176.0\n",
              "177     303    Minor Injuries        303    Minor Injuries      0       179.0\n",
              "183     304    Other Injuries        304    Other Injuries      0       185.0"
            ]
          },
          "execution_count": 93,
          "metadata": {},
          "output_type": "execute_result"
        }
      ],
      "source": [
        "risks_ierarchy.query('level == 0')"
      ]
    },
    {
      "cell_type": "code",
      "execution_count": null,
      "metadata": {
        "id": "z_Idd5kFpBes",
        "outputId": "b582ea5f-d491-4a96-b27a-2a56627fbd0b"
      },
      "outputs": [
        {
          "data": {
            "text/plain": [
              "165"
            ]
          },
          "execution_count": 94,
          "metadata": {},
          "output_type": "execute_result"
        }
      ],
      "source": [
        "risks_most_detailed_ids = set(\n",
        "    risks_ierarchy.rei_id.values\n",
        ").difference(set(risks_ierarchy.parent_id.values)).union(set([169]))\n",
        "\n",
        "len(risks_most_detailed_ids)"
      ]
    },
    {
      "cell_type": "code",
      "execution_count": null,
      "metadata": {
        "id": "u4cxehBipBet",
        "outputId": "e4aa2362-f5f6-43a0-e83e-fdd90b24f577"
      },
      "outputs": [
        {
          "name": "stdout",
          "output_type": "stream",
          "text": [
            "1\n",
            "2\n",
            "3\n",
            "4\n",
            "87\n"
          ]
        }
      ],
      "source": [
        "# select only childrens from 'All risk factors'\n",
        "start_id = 169\n",
        "start_level = risks_ierarchy.query('rei_id == @start_id').level.values[0] + 1\n",
        "all_risks_ids = set([start_id])\n",
        "for level in range(start_level, risks_ierarchy.level.max() + 1):\n",
        "    all_risks_ids = all_risks_ids.union(\n",
        "        set(risks_ierarchy.query('level == @level and parent_id in @all_risks_ids').rei_id.values)\n",
        "    )\n",
        "\n",
        "    print(level)\n",
        "all_risks_ids = all_risks_ids.union(set([169]))\n",
        "print(len(all_risks_ids))"
      ]
    },
    {
      "cell_type": "code",
      "execution_count": null,
      "metadata": {
        "id": "R2O_PLiUpBet",
        "outputId": "7053cf19-e379-433a-fea8-bd05247a951a"
      },
      "outputs": [
        {
          "data": {
            "text/html": [
              "<div>\n",
              "<style scoped>\n",
              "    .dataframe tbody tr th:only-of-type {\n",
              "        vertical-align: middle;\n",
              "    }\n",
              "\n",
              "    .dataframe tbody tr th {\n",
              "        vertical-align: top;\n",
              "    }\n",
              "\n",
              "    .dataframe thead th {\n",
              "        text-align: right;\n",
              "    }\n",
              "</style>\n",
              "<table border=\"1\" class=\"dataframe\">\n",
              "  <thead>\n",
              "    <tr style=\"text-align: right;\">\n",
              "      <th></th>\n",
              "      <th>rei_id</th>\n",
              "      <th>rei_name</th>\n",
              "      <th>parent_id</th>\n",
              "      <th>parent_name</th>\n",
              "      <th>level</th>\n",
              "      <th>sort_order</th>\n",
              "    </tr>\n",
              "  </thead>\n",
              "  <tbody>\n",
              "    <tr>\n",
              "      <th>0</th>\n",
              "      <td>169</td>\n",
              "      <td>All risk factors</td>\n",
              "      <td>169</td>\n",
              "      <td>All risk factors</td>\n",
              "      <td>0</td>\n",
              "      <td>1.0</td>\n",
              "    </tr>\n",
              "    <tr>\n",
              "      <th>8</th>\n",
              "      <td>83</td>\n",
              "      <td>Unsafe water source</td>\n",
              "      <td>82</td>\n",
              "      <td>Unsafe water, sanitation, and handwashing</td>\n",
              "      <td>3</td>\n",
              "      <td>9.0</td>\n",
              "    </tr>\n",
              "    <tr>\n",
              "      <th>9</th>\n",
              "      <td>84</td>\n",
              "      <td>Unsafe sanitation</td>\n",
              "      <td>82</td>\n",
              "      <td>Unsafe water, sanitation, and handwashing</td>\n",
              "      <td>3</td>\n",
              "      <td>10.0</td>\n",
              "    </tr>\n",
              "    <tr>\n",
              "      <th>10</th>\n",
              "      <td>238</td>\n",
              "      <td>No access to handwashing facility</td>\n",
              "      <td>82</td>\n",
              "      <td>Unsafe water, sanitation, and handwashing</td>\n",
              "      <td>3</td>\n",
              "      <td>11.0</td>\n",
              "    </tr>\n",
              "    <tr>\n",
              "      <th>13</th>\n",
              "      <td>86</td>\n",
              "      <td>Ambient particulate matter pollution</td>\n",
              "      <td>380</td>\n",
              "      <td>Particulate matter pollution</td>\n",
              "      <td>4</td>\n",
              "      <td>14.0</td>\n",
              "    </tr>\n",
              "    <tr>\n",
              "      <th>...</th>\n",
              "      <td>...</td>\n",
              "      <td>...</td>\n",
              "      <td>...</td>\n",
              "      <td>...</td>\n",
              "      <td>...</td>\n",
              "      <td>...</td>\n",
              "    </tr>\n",
              "    <tr>\n",
              "      <th>85</th>\n",
              "      <td>367</td>\n",
              "      <td>High LDL cholesterol</td>\n",
              "      <td>104</td>\n",
              "      <td>Metabolic risks</td>\n",
              "      <td>2</td>\n",
              "      <td>85.0</td>\n",
              "    </tr>\n",
              "    <tr>\n",
              "      <th>86</th>\n",
              "      <td>107</td>\n",
              "      <td>High systolic blood pressure</td>\n",
              "      <td>104</td>\n",
              "      <td>Metabolic risks</td>\n",
              "      <td>2</td>\n",
              "      <td>86.0</td>\n",
              "    </tr>\n",
              "    <tr>\n",
              "      <th>87</th>\n",
              "      <td>108</td>\n",
              "      <td>High body-mass index</td>\n",
              "      <td>104</td>\n",
              "      <td>Metabolic risks</td>\n",
              "      <td>2</td>\n",
              "      <td>87.0</td>\n",
              "    </tr>\n",
              "    <tr>\n",
              "      <th>88</th>\n",
              "      <td>109</td>\n",
              "      <td>Low bone mineral density</td>\n",
              "      <td>104</td>\n",
              "      <td>Metabolic risks</td>\n",
              "      <td>2</td>\n",
              "      <td>88.0</td>\n",
              "    </tr>\n",
              "    <tr>\n",
              "      <th>89</th>\n",
              "      <td>341</td>\n",
              "      <td>Impaired kidney function</td>\n",
              "      <td>104</td>\n",
              "      <td>Metabolic risks</td>\n",
              "      <td>2</td>\n",
              "      <td>89.0</td>\n",
              "    </tr>\n",
              "  </tbody>\n",
              "</table>\n",
              "<p>70 rows × 6 columns</p>\n",
              "</div>"
            ],
            "text/plain": [
              "    rei_id                              rei_name  parent_id  \\\n",
              "0      169                      All risk factors        169   \n",
              "8       83                   Unsafe water source         82   \n",
              "9       84                     Unsafe sanitation         82   \n",
              "10     238     No access to handwashing facility         82   \n",
              "13      86  Ambient particulate matter pollution        380   \n",
              "..     ...                                   ...        ...   \n",
              "85     367                  High LDL cholesterol        104   \n",
              "86     107          High systolic blood pressure        104   \n",
              "87     108                  High body-mass index        104   \n",
              "88     109              Low bone mineral density        104   \n",
              "89     341              Impaired kidney function        104   \n",
              "\n",
              "                                  parent_name  level  sort_order  \n",
              "0                            All risk factors      0         1.0  \n",
              "8   Unsafe water, sanitation, and handwashing      3         9.0  \n",
              "9   Unsafe water, sanitation, and handwashing      3        10.0  \n",
              "10  Unsafe water, sanitation, and handwashing      3        11.0  \n",
              "13               Particulate matter pollution      4        14.0  \n",
              "..                                        ...    ...         ...  \n",
              "85                            Metabolic risks      2        85.0  \n",
              "86                            Metabolic risks      2        86.0  \n",
              "87                            Metabolic risks      2        87.0  \n",
              "88                            Metabolic risks      2        88.0  \n",
              "89                            Metabolic risks      2        89.0  \n",
              "\n",
              "[70 rows x 6 columns]"
            ]
          },
          "execution_count": 96,
          "metadata": {},
          "output_type": "execute_result"
        }
      ],
      "source": [
        "# select most detailed risks that are childrens from 'All risk factors'\n",
        "risks_most_detailed = risks_ierarchy.query('rei_id in @all_risks_ids and rei_id in @risks_most_detailed_ids')\n",
        "\n",
        "risks_most_detailed"
      ]
    },
    {
      "cell_type": "code",
      "execution_count": null,
      "metadata": {
        "id": "f_8txejFpBet",
        "outputId": "9d86e8ae-64f7-4cae-b943-5d83e37bd9a4"
      },
      "outputs": [
        {
          "data": {
            "text/plain": [
              "{169}"
            ]
          },
          "execution_count": 97,
          "metadata": {},
          "output_type": "execute_result"
        }
      ],
      "source": [
        "set(risks_most_detailed.rei_id).intersection(set(risks_most_detailed.parent_id))"
      ]
    },
    {
      "cell_type": "code",
      "execution_count": null,
      "metadata": {
        "id": "vScfLUiWpBeu",
        "outputId": "53f4aa2e-9fea-4d2a-f0cf-31fed1290d3e"
      },
      "outputs": [
        {
          "data": {
            "text/plain": [
              "67"
            ]
          },
          "execution_count": 98,
          "metadata": {},
          "output_type": "execute_result"
        }
      ],
      "source": [
        "len(risk_all_countries_2019.rei_id.unique())"
      ]
    },
    {
      "cell_type": "code",
      "execution_count": null,
      "metadata": {
        "id": "fQFA1g3spBeu",
        "outputId": "1495d6da-f11a-4b97-96d8-9ca84ca0eaa7"
      },
      "outputs": [
        {
          "data": {
            "text/plain": [
              "67"
            ]
          },
          "execution_count": 102,
          "metadata": {},
          "output_type": "execute_result"
        }
      ],
      "source": [
        "risk_all_countries_2019_preprocessed = risk_all_countries_2019.query(\n",
        "    'rei_id in @risks_most_detailed.rei_id'\n",
        "    ' and cause_name in @causes_names_level_3'\n",
        ")\n",
        "\n",
        "len(risk_all_countries_2019_preprocessed.rei_id.unique())"
      ]
    },
    {
      "cell_type": "code",
      "execution_count": null,
      "metadata": {
        "id": "cJgzGT-2pBeu"
      },
      "outputs": [],
      "source": [
        "population = population.copy().query(\n",
        "    'sex_name != \"both\"'\n",
        "    ' and age_group_start in @causes_all_countries_2019.age_group_start'\n",
        "    ' and year_id == 2019'\n",
        "    ' and location_name in @causes_all_countries_2019.location_name'\n",
        ")"
      ]
    },
    {
      "cell_type": "code",
      "execution_count": null,
      "metadata": {
        "id": "DxpTMR53pBeu"
      },
      "outputs": [],
      "source": [
        "life_expectancy = life_expectancy.copy().query(\n",
        "    'sex_name != \"both\"'\n",
        "    ' and age_group_start in @causes_all_countries_2019.age_group_start'\n",
        "    ' and year_id == 2019'\n",
        "    ' and location_name in @causes_all_countries_2019.location_name'\n",
        ")"
      ]
    },
    {
      "cell_type": "markdown",
      "metadata": {
        "id": "JQzpcqZWpBev"
      },
      "source": [
        "## Filling risk factors"
      ]
    },
    {
      "cell_type": "code",
      "execution_count": null,
      "metadata": {
        "id": "-8MDxnNcpBev",
        "outputId": "baa4d126-5ad5-4a9e-b4f7-d0a97cec4e21"
      },
      "outputs": [
        {
          "data": {
            "text/plain": [
              "Index(['measure_id', 'measure_name', 'location_id', 'location_name', 'sex_id',\n",
              "       'sex_name', 'age_id', 'age_name', 'cause_id', 'cause_name', 'rei_id',\n",
              "       'rei_name', 'metric_id', 'metric_name', 'year', 'val', 'upper', 'lower',\n",
              "       'age_group_start'],\n",
              "      dtype='object')"
            ]
          },
          "execution_count": 106,
          "metadata": {},
          "output_type": "execute_result"
        }
      ],
      "source": [
        "risk_all_countries_2019_preprocessed.columns"
      ]
    },
    {
      "cell_type": "code",
      "execution_count": null,
      "metadata": {
        "id": "KVe4RsoFpBev",
        "outputId": "619dbf34-3220-46f7-a04c-3d1477307f4b"
      },
      "outputs": [
        {
          "data": {
            "text/plain": [
              "Index(['measure_id', 'measure_name', 'location_id', 'location_name', 'sex_id',\n",
              "       'sex_name', 'age_id', 'age_name', 'cause_id', 'cause_name', 'rei_id',\n",
              "       'rei_name', 'metric_id', 'metric_name', 'year', 'val', 'upper', 'lower',\n",
              "       'age_group_start'],\n",
              "      dtype='object')"
            ]
          },
          "execution_count": 59,
          "metadata": {},
          "output_type": "execute_result"
        }
      ],
      "source": [
        "risk_all_countries_2019_preprocessed.columns"
      ]
    },
    {
      "cell_type": "code",
      "execution_count": null,
      "metadata": {
        "id": "5M28e90kpBev",
        "outputId": "99e0ed7a-5b69-4046-bd35-9c0c778eb76b"
      },
      "outputs": [
        {
          "name": "stderr",
          "output_type": "stream",
          "text": [
            "100%|██████████| 79/79 [00:45<00:00,  1.73it/s]\n"
          ]
        }
      ],
      "source": [
        "results = []\n",
        "\n",
        "for cause_id in tqdm.tqdm(risk_all_countries_2019_preprocessed['cause_id'].unique()):\n",
        "\n",
        "    for rei_id in risk_all_countries_2019_preprocessed.query(\n",
        "        'cause_id == @cause_id'\n",
        "    )['rei_id'].unique():\n",
        "\n",
        "        filled_risk_factor = (\n",
        "            risk_all_countries_2019_preprocessed.query(\n",
        "                'cause_id == @cause_id'\n",
        "                ' and rei_id == @rei_id'\n",
        "            ).set_index(\n",
        "                [\n",
        "                    'location_id',\n",
        "                    'age_group_start',\n",
        "                    'sex_id',\n",
        "                    'cause_id',\n",
        "                    'rei_id'\n",
        "                ]\n",
        "            )[['val', 'upper', 'lower']].sort_index()\n",
        "        ).join(\n",
        "            pd.DataFrame(\n",
        "                index=pd.MultiIndex.from_product(\n",
        "                    [\n",
        "                        risk_all_countries_2019_preprocessed['location_id'].unique(),\n",
        "                        risk_all_countries_2019_preprocessed['age_group_start'].unique(),\n",
        "                        risk_all_countries_2019_preprocessed['sex_id'].unique(),\n",
        "                        [cause_id],\n",
        "                        [rei_id]\n",
        "                    ],\n",
        "                    names=[\n",
        "                        'location_id',\n",
        "                        'age_group_start',\n",
        "                        'sex_id',\n",
        "                        'cause_id',\n",
        "                        'rei_id'\n",
        "                    ]\n",
        "                )).sort_index(),\n",
        "            how='outer'    \n",
        "        ).fillna(0).reset_index()\n",
        "\n",
        "        results.append(filled_risk_factor)"
      ]
    },
    {
      "cell_type": "code",
      "execution_count": null,
      "metadata": {
        "id": "37dfO8VupBev"
      },
      "outputs": [],
      "source": [
        "filled_risk_factors = pd.concat(results, axis=0)"
      ]
    },
    {
      "cell_type": "code",
      "execution_count": null,
      "metadata": {
        "id": "2P4bnwBbpBew",
        "outputId": "f73fdbea-7a73-47f7-f36e-7996d375f343"
      },
      "outputs": [
        {
          "data": {
            "text/plain": [
              "(3581424, 8)"
            ]
          },
          "execution_count": 63,
          "metadata": {},
          "output_type": "execute_result"
        }
      ],
      "source": [
        "filled_risk_factors.shape"
      ]
    },
    {
      "cell_type": "code",
      "execution_count": null,
      "metadata": {
        "id": "2a6ZyrNKpBew",
        "outputId": "9be80457-e0c5-46bb-b11c-1fbce54fe72f"
      },
      "outputs": [
        {
          "data": {
            "text/plain": [
              "0"
            ]
          },
          "execution_count": 64,
          "metadata": {},
          "output_type": "execute_result"
        }
      ],
      "source": [
        "filled_risk_factors.duplicated().sum()"
      ]
    },
    {
      "cell_type": "code",
      "execution_count": null,
      "metadata": {
        "id": "tbD5nETZpBew",
        "outputId": "8b39f86d-b674-4f38-af16-bb866862e74f"
      },
      "outputs": [
        {
          "data": {
            "text/plain": [
              "1256614"
            ]
          },
          "execution_count": 65,
          "metadata": {},
          "output_type": "execute_result"
        }
      ],
      "source": [
        "(filled_risk_factors[['val', 'upper', 'lower']] == 0).all(axis=1).sum()"
      ]
    },
    {
      "cell_type": "code",
      "execution_count": null,
      "metadata": {
        "id": "KaBhIWFcpBew",
        "outputId": "e2807128-4232-45fb-c13f-6b42524a1966"
      },
      "outputs": [
        {
          "data": {
            "text/html": [
              "<div>\n",
              "<style scoped>\n",
              "    .dataframe tbody tr th:only-of-type {\n",
              "        vertical-align: middle;\n",
              "    }\n",
              "\n",
              "    .dataframe tbody tr th {\n",
              "        vertical-align: top;\n",
              "    }\n",
              "\n",
              "    .dataframe thead th {\n",
              "        text-align: right;\n",
              "    }\n",
              "</style>\n",
              "<table border=\"1\" class=\"dataframe\">\n",
              "  <thead>\n",
              "    <tr style=\"text-align: right;\">\n",
              "      <th></th>\n",
              "      <th>location_id</th>\n",
              "      <th>age_group_start</th>\n",
              "      <th>sex_id</th>\n",
              "      <th>cause_id</th>\n",
              "      <th>rei_id</th>\n",
              "      <th>val</th>\n",
              "      <th>upper</th>\n",
              "      <th>lower</th>\n",
              "    </tr>\n",
              "  </thead>\n",
              "  <tbody>\n",
              "    <tr>\n",
              "      <th>0</th>\n",
              "      <td>6</td>\n",
              "      <td>0</td>\n",
              "      <td>1</td>\n",
              "      <td>504</td>\n",
              "      <td>91</td>\n",
              "      <td>0.000000</td>\n",
              "      <td>0.000000</td>\n",
              "      <td>0.000000</td>\n",
              "    </tr>\n",
              "    <tr>\n",
              "      <th>1</th>\n",
              "      <td>6</td>\n",
              "      <td>0</td>\n",
              "      <td>2</td>\n",
              "      <td>504</td>\n",
              "      <td>91</td>\n",
              "      <td>0.000000</td>\n",
              "      <td>0.000000</td>\n",
              "      <td>0.000000</td>\n",
              "    </tr>\n",
              "    <tr>\n",
              "      <th>2</th>\n",
              "      <td>6</td>\n",
              "      <td>1</td>\n",
              "      <td>1</td>\n",
              "      <td>504</td>\n",
              "      <td>91</td>\n",
              "      <td>0.000000</td>\n",
              "      <td>0.000000</td>\n",
              "      <td>0.000000</td>\n",
              "    </tr>\n",
              "    <tr>\n",
              "      <th>3</th>\n",
              "      <td>6</td>\n",
              "      <td>1</td>\n",
              "      <td>2</td>\n",
              "      <td>504</td>\n",
              "      <td>91</td>\n",
              "      <td>0.000000</td>\n",
              "      <td>0.000000</td>\n",
              "      <td>0.000000</td>\n",
              "    </tr>\n",
              "    <tr>\n",
              "      <th>4</th>\n",
              "      <td>6</td>\n",
              "      <td>5</td>\n",
              "      <td>1</td>\n",
              "      <td>504</td>\n",
              "      <td>91</td>\n",
              "      <td>0.000000</td>\n",
              "      <td>0.000000</td>\n",
              "      <td>0.000000</td>\n",
              "    </tr>\n",
              "    <tr>\n",
              "      <th>...</th>\n",
              "      <td>...</td>\n",
              "      <td>...</td>\n",
              "      <td>...</td>\n",
              "      <td>...</td>\n",
              "      <td>...</td>\n",
              "      <td>...</td>\n",
              "      <td>...</td>\n",
              "      <td>...</td>\n",
              "    </tr>\n",
              "    <tr>\n",
              "      <th>8563</th>\n",
              "      <td>522</td>\n",
              "      <td>85</td>\n",
              "      <td>2</td>\n",
              "      <td>499</td>\n",
              "      <td>124</td>\n",
              "      <td>0.052622</td>\n",
              "      <td>0.187631</td>\n",
              "      <td>0.012720</td>\n",
              "    </tr>\n",
              "    <tr>\n",
              "      <th>8564</th>\n",
              "      <td>522</td>\n",
              "      <td>90</td>\n",
              "      <td>1</td>\n",
              "      <td>499</td>\n",
              "      <td>124</td>\n",
              "      <td>0.061035</td>\n",
              "      <td>0.292564</td>\n",
              "      <td>0.009096</td>\n",
              "    </tr>\n",
              "    <tr>\n",
              "      <th>8565</th>\n",
              "      <td>522</td>\n",
              "      <td>90</td>\n",
              "      <td>2</td>\n",
              "      <td>499</td>\n",
              "      <td>124</td>\n",
              "      <td>0.027368</td>\n",
              "      <td>0.100173</td>\n",
              "      <td>0.006522</td>\n",
              "    </tr>\n",
              "    <tr>\n",
              "      <th>8566</th>\n",
              "      <td>522</td>\n",
              "      <td>95</td>\n",
              "      <td>1</td>\n",
              "      <td>499</td>\n",
              "      <td>124</td>\n",
              "      <td>0.022894</td>\n",
              "      <td>0.103315</td>\n",
              "      <td>0.003498</td>\n",
              "    </tr>\n",
              "    <tr>\n",
              "      <th>8567</th>\n",
              "      <td>522</td>\n",
              "      <td>95</td>\n",
              "      <td>2</td>\n",
              "      <td>499</td>\n",
              "      <td>124</td>\n",
              "      <td>0.014420</td>\n",
              "      <td>0.056599</td>\n",
              "      <td>0.003334</td>\n",
              "    </tr>\n",
              "  </tbody>\n",
              "</table>\n",
              "<p>3581424 rows × 8 columns</p>\n",
              "</div>"
            ],
            "text/plain": [
              "      location_id  age_group_start  sex_id  cause_id  rei_id       val  \\\n",
              "0               6                0       1       504      91  0.000000   \n",
              "1               6                0       2       504      91  0.000000   \n",
              "2               6                1       1       504      91  0.000000   \n",
              "3               6                1       2       504      91  0.000000   \n",
              "4               6                5       1       504      91  0.000000   \n",
              "...           ...              ...     ...       ...     ...       ...   \n",
              "8563          522               85       2       499     124  0.052622   \n",
              "8564          522               90       1       499     124  0.061035   \n",
              "8565          522               90       2       499     124  0.027368   \n",
              "8566          522               95       1       499     124  0.022894   \n",
              "8567          522               95       2       499     124  0.014420   \n",
              "\n",
              "         upper     lower  \n",
              "0     0.000000  0.000000  \n",
              "1     0.000000  0.000000  \n",
              "2     0.000000  0.000000  \n",
              "3     0.000000  0.000000  \n",
              "4     0.000000  0.000000  \n",
              "...        ...       ...  \n",
              "8563  0.187631  0.012720  \n",
              "8564  0.292564  0.009096  \n",
              "8565  0.100173  0.006522  \n",
              "8566  0.103315  0.003498  \n",
              "8567  0.056599  0.003334  \n",
              "\n",
              "[3581424 rows x 8 columns]"
            ]
          },
          "execution_count": 67,
          "metadata": {},
          "output_type": "execute_result"
        }
      ],
      "source": [
        "filled_risk_factors"
      ]
    },
    {
      "cell_type": "code",
      "execution_count": null,
      "metadata": {
        "id": "jA7exs5NpBew"
      },
      "outputs": [],
      "source": [
        "risks_name_to_id = {k: int(v) for k,v in risks_name_to_id.items()}\n",
        "location_name_to_id = {k: int(v) for k,v in location_name_to_id.items()}\n",
        "cause_name_to_id = {k: int(v) for k,v in cause_name_to_id.items()}"
      ]
    },
    {
      "cell_type": "code",
      "execution_count": null,
      "metadata": {
        "id": "X-nW7pj9pBew",
        "outputId": "2a8c9a1b-835c-4493-9bea-c8c3b07c1490"
      },
      "outputs": [
        {
          "data": {
            "text/plain": [
              "3.1893792590535663"
            ]
          },
          "execution_count": 86,
          "metadata": {},
          "output_type": "execute_result"
        }
      ],
      "source": [
        "filled_risk_factors.query(\n",
        "    'rei_id == @risks_name_to_id[\"Iron deficiency\"]'\n",
        "    ' and location_id == @location_name_to_id[\"Germany\"]'\n",
        ").val.sum()"
      ]
    },
    {
      "cell_type": "code",
      "execution_count": null,
      "metadata": {
        "id": "nNk30XI5pBex"
      },
      "outputs": [],
      "source": [
        "filled_risk_factors.to_csv(\n",
        "    os.path.join('data', 'population_causes_risks_preprocessed', 'risk_factors.csv'),\n",
        "    index=False,\n",
        ")"
      ]
    },
    {
      "cell_type": "code",
      "execution_count": null,
      "metadata": {
        "id": "yRjyfE54pBex"
      },
      "outputs": [],
      "source": [
        "pd.Series(risks_name_to_id).to_csv(\n",
        "    os.path.join('data', 'population_causes_risks_preprocessed', 'map_risks_name_to_id.csv'),\n",
        ")\n",
        "\n",
        "pd.Series(location_name_to_id).to_csv(\n",
        "    os.path.join('data', 'population_causes_risks_preprocessed', 'map_location_name_to_id.csv'),\n",
        ")\n",
        "\n",
        "pd.Series(cause_name_to_id).to_csv(\n",
        "    os.path.join('data', 'population_causes_risks_preprocessed', 'map_cause_name_to_id.csv'),\n",
        ")"
      ]
    },
    {
      "cell_type": "code",
      "execution_count": null,
      "metadata": {
        "id": "UVPj1YtgpBex",
        "outputId": "6a7deaa4-5c79-4069-fcff-91995861587b"
      },
      "outputs": [
        {
          "data": {
            "text/plain": [
              "(67,)"
            ]
          },
          "execution_count": 89,
          "metadata": {},
          "output_type": "execute_result"
        }
      ],
      "source": [
        "filled_risk_factors.rei_id.unique().shape"
      ]
    },
    {
      "cell_type": "markdown",
      "metadata": {
        "id": "kN5dgxGipBex"
      },
      "source": [
        "## Selecting risk factors that might be excluded"
      ]
    },
    {
      "cell_type": "code",
      "execution_count": null,
      "metadata": {
        "id": "QybTnCFNpBex",
        "outputId": "62787008-da32-447f-f9ab-4b4d739ca30d"
      },
      "outputs": [
        {
          "name": "stdout",
          "output_type": "stream",
          "text": [
            "2\n",
            "3\n",
            "4\n"
          ]
        }
      ],
      "source": [
        "start_id = 203 # rei_name = 'Behavioral risks'\n",
        "start_level = risks_ierarchy.query('rei_id == @start_id').level.values[0] + 1\n",
        "behavioral_risks_ids = set([start_id])\n",
        "for level in range(start_level, risks_ierarchy.level.max() + 1):\n",
        "    behavioral_risks_ids = behavioral_risks_ids.union(\n",
        "        set(risks_ierarchy.query('level == @level and parent_id in @behavioral_risks_ids').rei_id.values)\n",
        "    )\n",
        "\n",
        "    print(level)"
      ]
    },
    {
      "cell_type": "code",
      "execution_count": null,
      "metadata": {
        "id": "R4bc8eV2pBey",
        "outputId": "6c97a297-6be2-4a00-dcf6-ddb81daf0180"
      },
      "outputs": [
        {
          "data": {
            "text/plain": [
              "43"
            ]
          },
          "execution_count": 95,
          "metadata": {},
          "output_type": "execute_result"
        }
      ],
      "source": [
        "behavioral_risks = risks_ierarchy.query('rei_id in @behavioral_risks_ids')\n",
        "len(behavioral_risks)"
      ]
    },
    {
      "cell_type": "code",
      "execution_count": null,
      "metadata": {
        "id": "dpO1WYIkpBey",
        "outputId": "255bbd35-dd88-48ed-8de3-095ef4f2ae21"
      },
      "outputs": [
        {
          "data": {
            "text/html": [
              "<div>\n",
              "<style scoped>\n",
              "    .dataframe tbody tr th:only-of-type {\n",
              "        vertical-align: middle;\n",
              "    }\n",
              "\n",
              "    .dataframe tbody tr th {\n",
              "        vertical-align: top;\n",
              "    }\n",
              "\n",
              "    .dataframe thead th {\n",
              "        text-align: right;\n",
              "    }\n",
              "</style>\n",
              "<table border=\"1\" class=\"dataframe\">\n",
              "  <thead>\n",
              "    <tr style=\"text-align: right;\">\n",
              "      <th></th>\n",
              "      <th>rei_id</th>\n",
              "      <th>rei_name</th>\n",
              "      <th>parent_id</th>\n",
              "      <th>parent_name</th>\n",
              "      <th>level</th>\n",
              "      <th>sort_order</th>\n",
              "    </tr>\n",
              "  </thead>\n",
              "  <tbody>\n",
              "    <tr>\n",
              "      <th>2</th>\n",
              "      <td>203</td>\n",
              "      <td>Behavioral risks</td>\n",
              "      <td>169</td>\n",
              "      <td>All risk factors</td>\n",
              "      <td>1</td>\n",
              "      <td>3.0</td>\n",
              "    </tr>\n",
              "    <tr>\n",
              "      <th>42</th>\n",
              "      <td>92</td>\n",
              "      <td>Child and maternal malnutrition</td>\n",
              "      <td>203</td>\n",
              "      <td>Behavioral risks</td>\n",
              "      <td>2</td>\n",
              "      <td>43.0</td>\n",
              "    </tr>\n",
              "    <tr>\n",
              "      <th>43</th>\n",
              "      <td>93</td>\n",
              "      <td>Suboptimal breastfeeding</td>\n",
              "      <td>92</td>\n",
              "      <td>Child and maternal malnutrition</td>\n",
              "      <td>3</td>\n",
              "      <td>44.0</td>\n",
              "    </tr>\n",
              "    <tr>\n",
              "      <th>44</th>\n",
              "      <td>136</td>\n",
              "      <td>Non-exclusive breastfeeding</td>\n",
              "      <td>93</td>\n",
              "      <td>Suboptimal breastfeeding</td>\n",
              "      <td>4</td>\n",
              "      <td>45.0</td>\n",
              "    </tr>\n",
              "    <tr>\n",
              "      <th>45</th>\n",
              "      <td>137</td>\n",
              "      <td>Discontinued breastfeeding</td>\n",
              "      <td>93</td>\n",
              "      <td>Suboptimal breastfeeding</td>\n",
              "      <td>4</td>\n",
              "      <td>46.0</td>\n",
              "    </tr>\n",
              "    <tr>\n",
              "      <th>46</th>\n",
              "      <td>239</td>\n",
              "      <td>Child growth failure</td>\n",
              "      <td>92</td>\n",
              "      <td>Child and maternal malnutrition</td>\n",
              "      <td>3</td>\n",
              "      <td>47.0</td>\n",
              "    </tr>\n",
              "    <tr>\n",
              "      <th>47</th>\n",
              "      <td>94</td>\n",
              "      <td>Child underweight</td>\n",
              "      <td>239</td>\n",
              "      <td>Child growth failure</td>\n",
              "      <td>4</td>\n",
              "      <td>48.0</td>\n",
              "    </tr>\n",
              "    <tr>\n",
              "      <th>48</th>\n",
              "      <td>240</td>\n",
              "      <td>Child wasting</td>\n",
              "      <td>239</td>\n",
              "      <td>Child growth failure</td>\n",
              "      <td>4</td>\n",
              "      <td>49.0</td>\n",
              "    </tr>\n",
              "    <tr>\n",
              "      <th>49</th>\n",
              "      <td>241</td>\n",
              "      <td>Child stunting</td>\n",
              "      <td>239</td>\n",
              "      <td>Child growth failure</td>\n",
              "      <td>4</td>\n",
              "      <td>50.0</td>\n",
              "    </tr>\n",
              "    <tr>\n",
              "      <th>50</th>\n",
              "      <td>339</td>\n",
              "      <td>Low birth weight and short gestation</td>\n",
              "      <td>92</td>\n",
              "      <td>Child and maternal malnutrition</td>\n",
              "      <td>3</td>\n",
              "      <td>51.0</td>\n",
              "    </tr>\n",
              "    <tr>\n",
              "      <th>51</th>\n",
              "      <td>334</td>\n",
              "      <td>Short gestation</td>\n",
              "      <td>339</td>\n",
              "      <td>Low birth weight and short gestation</td>\n",
              "      <td>4</td>\n",
              "      <td>52.0</td>\n",
              "    </tr>\n",
              "    <tr>\n",
              "      <th>52</th>\n",
              "      <td>335</td>\n",
              "      <td>Low birth weight</td>\n",
              "      <td>339</td>\n",
              "      <td>Low birth weight and short gestation</td>\n",
              "      <td>4</td>\n",
              "      <td>53.0</td>\n",
              "    </tr>\n",
              "    <tr>\n",
              "      <th>53</th>\n",
              "      <td>95</td>\n",
              "      <td>Iron deficiency</td>\n",
              "      <td>92</td>\n",
              "      <td>Child and maternal malnutrition</td>\n",
              "      <td>3</td>\n",
              "      <td>54.0</td>\n",
              "    </tr>\n",
              "    <tr>\n",
              "      <th>54</th>\n",
              "      <td>96</td>\n",
              "      <td>Vitamin A deficiency</td>\n",
              "      <td>92</td>\n",
              "      <td>Child and maternal malnutrition</td>\n",
              "      <td>3</td>\n",
              "      <td>55.0</td>\n",
              "    </tr>\n",
              "    <tr>\n",
              "      <th>55</th>\n",
              "      <td>97</td>\n",
              "      <td>Zinc deficiency</td>\n",
              "      <td>92</td>\n",
              "      <td>Child and maternal malnutrition</td>\n",
              "      <td>3</td>\n",
              "      <td>56.0</td>\n",
              "    </tr>\n",
              "    <tr>\n",
              "      <th>56</th>\n",
              "      <td>98</td>\n",
              "      <td>Tobacco</td>\n",
              "      <td>203</td>\n",
              "      <td>Behavioral risks</td>\n",
              "      <td>2</td>\n",
              "      <td>57.0</td>\n",
              "    </tr>\n",
              "    <tr>\n",
              "      <th>57</th>\n",
              "      <td>99</td>\n",
              "      <td>Smoking</td>\n",
              "      <td>98</td>\n",
              "      <td>Tobacco</td>\n",
              "      <td>3</td>\n",
              "      <td>58.0</td>\n",
              "    </tr>\n",
              "    <tr>\n",
              "      <th>58</th>\n",
              "      <td>332</td>\n",
              "      <td>Chewing tobacco</td>\n",
              "      <td>98</td>\n",
              "      <td>Tobacco</td>\n",
              "      <td>3</td>\n",
              "      <td>59.0</td>\n",
              "    </tr>\n",
              "    <tr>\n",
              "      <th>59</th>\n",
              "      <td>100</td>\n",
              "      <td>Secondhand smoke</td>\n",
              "      <td>98</td>\n",
              "      <td>Tobacco</td>\n",
              "      <td>3</td>\n",
              "      <td>60.0</td>\n",
              "    </tr>\n",
              "    <tr>\n",
              "      <th>60</th>\n",
              "      <td>102</td>\n",
              "      <td>Alcohol use</td>\n",
              "      <td>203</td>\n",
              "      <td>Behavioral risks</td>\n",
              "      <td>2</td>\n",
              "      <td>61.0</td>\n",
              "    </tr>\n",
              "    <tr>\n",
              "      <th>61</th>\n",
              "      <td>103</td>\n",
              "      <td>Drug use</td>\n",
              "      <td>203</td>\n",
              "      <td>Behavioral risks</td>\n",
              "      <td>2</td>\n",
              "      <td>62.0</td>\n",
              "    </tr>\n",
              "    <tr>\n",
              "      <th>62</th>\n",
              "      <td>110</td>\n",
              "      <td>Dietary risks</td>\n",
              "      <td>203</td>\n",
              "      <td>Behavioral risks</td>\n",
              "      <td>2</td>\n",
              "      <td>63.0</td>\n",
              "    </tr>\n",
              "    <tr>\n",
              "      <th>63</th>\n",
              "      <td>111</td>\n",
              "      <td>Diet low in fruits</td>\n",
              "      <td>110</td>\n",
              "      <td>Dietary risks</td>\n",
              "      <td>3</td>\n",
              "      <td>64.0</td>\n",
              "    </tr>\n",
              "    <tr>\n",
              "      <th>64</th>\n",
              "      <td>112</td>\n",
              "      <td>Diet low in vegetables</td>\n",
              "      <td>110</td>\n",
              "      <td>Dietary risks</td>\n",
              "      <td>3</td>\n",
              "      <td>65.0</td>\n",
              "    </tr>\n",
              "    <tr>\n",
              "      <th>65</th>\n",
              "      <td>333</td>\n",
              "      <td>Diet low in legumes</td>\n",
              "      <td>110</td>\n",
              "      <td>Dietary risks</td>\n",
              "      <td>3</td>\n",
              "      <td>65.5</td>\n",
              "    </tr>\n",
              "    <tr>\n",
              "      <th>66</th>\n",
              "      <td>113</td>\n",
              "      <td>Diet low in whole grains</td>\n",
              "      <td>110</td>\n",
              "      <td>Dietary risks</td>\n",
              "      <td>3</td>\n",
              "      <td>66.0</td>\n",
              "    </tr>\n",
              "    <tr>\n",
              "      <th>67</th>\n",
              "      <td>114</td>\n",
              "      <td>Diet low in nuts and seeds</td>\n",
              "      <td>110</td>\n",
              "      <td>Dietary risks</td>\n",
              "      <td>3</td>\n",
              "      <td>67.0</td>\n",
              "    </tr>\n",
              "    <tr>\n",
              "      <th>68</th>\n",
              "      <td>115</td>\n",
              "      <td>Diet low in milk</td>\n",
              "      <td>110</td>\n",
              "      <td>Dietary risks</td>\n",
              "      <td>3</td>\n",
              "      <td>68.0</td>\n",
              "    </tr>\n",
              "    <tr>\n",
              "      <th>69</th>\n",
              "      <td>116</td>\n",
              "      <td>Diet high in red meat</td>\n",
              "      <td>110</td>\n",
              "      <td>Dietary risks</td>\n",
              "      <td>3</td>\n",
              "      <td>69.0</td>\n",
              "    </tr>\n",
              "    <tr>\n",
              "      <th>70</th>\n",
              "      <td>117</td>\n",
              "      <td>Diet high in processed meat</td>\n",
              "      <td>110</td>\n",
              "      <td>Dietary risks</td>\n",
              "      <td>3</td>\n",
              "      <td>70.0</td>\n",
              "    </tr>\n",
              "    <tr>\n",
              "      <th>71</th>\n",
              "      <td>118</td>\n",
              "      <td>Diet high in sugar-sweetened beverages</td>\n",
              "      <td>110</td>\n",
              "      <td>Dietary risks</td>\n",
              "      <td>3</td>\n",
              "      <td>71.0</td>\n",
              "    </tr>\n",
              "    <tr>\n",
              "      <th>72</th>\n",
              "      <td>119</td>\n",
              "      <td>Diet low in fiber</td>\n",
              "      <td>110</td>\n",
              "      <td>Dietary risks</td>\n",
              "      <td>3</td>\n",
              "      <td>72.0</td>\n",
              "    </tr>\n",
              "    <tr>\n",
              "      <th>73</th>\n",
              "      <td>147</td>\n",
              "      <td>Diet low in calcium</td>\n",
              "      <td>110</td>\n",
              "      <td>Dietary risks</td>\n",
              "      <td>3</td>\n",
              "      <td>73.0</td>\n",
              "    </tr>\n",
              "    <tr>\n",
              "      <th>74</th>\n",
              "      <td>121</td>\n",
              "      <td>Diet low in seafood omega-3 fatty acids</td>\n",
              "      <td>110</td>\n",
              "      <td>Dietary risks</td>\n",
              "      <td>3</td>\n",
              "      <td>74.0</td>\n",
              "    </tr>\n",
              "    <tr>\n",
              "      <th>75</th>\n",
              "      <td>122</td>\n",
              "      <td>Diet low in polyunsaturated fatty acids</td>\n",
              "      <td>110</td>\n",
              "      <td>Dietary risks</td>\n",
              "      <td>3</td>\n",
              "      <td>75.0</td>\n",
              "    </tr>\n",
              "    <tr>\n",
              "      <th>76</th>\n",
              "      <td>123</td>\n",
              "      <td>Diet high in trans fatty acids</td>\n",
              "      <td>110</td>\n",
              "      <td>Dietary risks</td>\n",
              "      <td>3</td>\n",
              "      <td>76.0</td>\n",
              "    </tr>\n",
              "    <tr>\n",
              "      <th>77</th>\n",
              "      <td>124</td>\n",
              "      <td>Diet high in sodium</td>\n",
              "      <td>110</td>\n",
              "      <td>Dietary risks</td>\n",
              "      <td>3</td>\n",
              "      <td>77.0</td>\n",
              "    </tr>\n",
              "    <tr>\n",
              "      <th>78</th>\n",
              "      <td>135</td>\n",
              "      <td>Intimate partner violence</td>\n",
              "      <td>203</td>\n",
              "      <td>Behavioral risks</td>\n",
              "      <td>2</td>\n",
              "      <td>78.0</td>\n",
              "    </tr>\n",
              "    <tr>\n",
              "      <th>79</th>\n",
              "      <td>381</td>\n",
              "      <td>Childhood sexual abuse and bullying</td>\n",
              "      <td>203</td>\n",
              "      <td>Behavioral risks</td>\n",
              "      <td>2</td>\n",
              "      <td>79.0</td>\n",
              "    </tr>\n",
              "    <tr>\n",
              "      <th>80</th>\n",
              "      <td>134</td>\n",
              "      <td>Childhood sexual abuse</td>\n",
              "      <td>381</td>\n",
              "      <td>Childhood sexual abuse and bullying</td>\n",
              "      <td>3</td>\n",
              "      <td>80.0</td>\n",
              "    </tr>\n",
              "    <tr>\n",
              "      <th>81</th>\n",
              "      <td>363</td>\n",
              "      <td>Bullying victimization</td>\n",
              "      <td>381</td>\n",
              "      <td>Childhood sexual abuse and bullying</td>\n",
              "      <td>3</td>\n",
              "      <td>81.0</td>\n",
              "    </tr>\n",
              "    <tr>\n",
              "      <th>82</th>\n",
              "      <td>170</td>\n",
              "      <td>Unsafe sex</td>\n",
              "      <td>203</td>\n",
              "      <td>Behavioral risks</td>\n",
              "      <td>2</td>\n",
              "      <td>82.0</td>\n",
              "    </tr>\n",
              "    <tr>\n",
              "      <th>83</th>\n",
              "      <td>125</td>\n",
              "      <td>Low physical activity</td>\n",
              "      <td>203</td>\n",
              "      <td>Behavioral risks</td>\n",
              "      <td>2</td>\n",
              "      <td>83.0</td>\n",
              "    </tr>\n",
              "  </tbody>\n",
              "</table>\n",
              "</div>"
            ],
            "text/plain": [
              "    rei_id                                 rei_name  parent_id  \\\n",
              "2      203                         Behavioral risks        169   \n",
              "42      92          Child and maternal malnutrition        203   \n",
              "43      93                 Suboptimal breastfeeding         92   \n",
              "44     136              Non-exclusive breastfeeding         93   \n",
              "45     137               Discontinued breastfeeding         93   \n",
              "46     239                     Child growth failure         92   \n",
              "47      94                        Child underweight        239   \n",
              "48     240                            Child wasting        239   \n",
              "49     241                           Child stunting        239   \n",
              "50     339     Low birth weight and short gestation         92   \n",
              "51     334                          Short gestation        339   \n",
              "52     335                         Low birth weight        339   \n",
              "53      95                          Iron deficiency         92   \n",
              "54      96                     Vitamin A deficiency         92   \n",
              "55      97                          Zinc deficiency         92   \n",
              "56      98                                  Tobacco        203   \n",
              "57      99                                  Smoking         98   \n",
              "58     332                          Chewing tobacco         98   \n",
              "59     100                         Secondhand smoke         98   \n",
              "60     102                              Alcohol use        203   \n",
              "61     103                                 Drug use        203   \n",
              "62     110                            Dietary risks        203   \n",
              "63     111                       Diet low in fruits        110   \n",
              "64     112                   Diet low in vegetables        110   \n",
              "65     333                      Diet low in legumes        110   \n",
              "66     113                 Diet low in whole grains        110   \n",
              "67     114               Diet low in nuts and seeds        110   \n",
              "68     115                         Diet low in milk        110   \n",
              "69     116                    Diet high in red meat        110   \n",
              "70     117              Diet high in processed meat        110   \n",
              "71     118   Diet high in sugar-sweetened beverages        110   \n",
              "72     119                        Diet low in fiber        110   \n",
              "73     147                      Diet low in calcium        110   \n",
              "74     121  Diet low in seafood omega-3 fatty acids        110   \n",
              "75     122  Diet low in polyunsaturated fatty acids        110   \n",
              "76     123           Diet high in trans fatty acids        110   \n",
              "77     124                      Diet high in sodium        110   \n",
              "78     135                Intimate partner violence        203   \n",
              "79     381      Childhood sexual abuse and bullying        203   \n",
              "80     134                   Childhood sexual abuse        381   \n",
              "81     363                   Bullying victimization        381   \n",
              "82     170                               Unsafe sex        203   \n",
              "83     125                    Low physical activity        203   \n",
              "\n",
              "                             parent_name  level  sort_order  \n",
              "2                       All risk factors      1         3.0  \n",
              "42                      Behavioral risks      2        43.0  \n",
              "43       Child and maternal malnutrition      3        44.0  \n",
              "44              Suboptimal breastfeeding      4        45.0  \n",
              "45              Suboptimal breastfeeding      4        46.0  \n",
              "46       Child and maternal malnutrition      3        47.0  \n",
              "47                  Child growth failure      4        48.0  \n",
              "48                  Child growth failure      4        49.0  \n",
              "49                  Child growth failure      4        50.0  \n",
              "50       Child and maternal malnutrition      3        51.0  \n",
              "51  Low birth weight and short gestation      4        52.0  \n",
              "52  Low birth weight and short gestation      4        53.0  \n",
              "53       Child and maternal malnutrition      3        54.0  \n",
              "54       Child and maternal malnutrition      3        55.0  \n",
              "55       Child and maternal malnutrition      3        56.0  \n",
              "56                      Behavioral risks      2        57.0  \n",
              "57                               Tobacco      3        58.0  \n",
              "58                               Tobacco      3        59.0  \n",
              "59                               Tobacco      3        60.0  \n",
              "60                      Behavioral risks      2        61.0  \n",
              "61                      Behavioral risks      2        62.0  \n",
              "62                      Behavioral risks      2        63.0  \n",
              "63                         Dietary risks      3        64.0  \n",
              "64                         Dietary risks      3        65.0  \n",
              "65                         Dietary risks      3        65.5  \n",
              "66                         Dietary risks      3        66.0  \n",
              "67                         Dietary risks      3        67.0  \n",
              "68                         Dietary risks      3        68.0  \n",
              "69                         Dietary risks      3        69.0  \n",
              "70                         Dietary risks      3        70.0  \n",
              "71                         Dietary risks      3        71.0  \n",
              "72                         Dietary risks      3        72.0  \n",
              "73                         Dietary risks      3        73.0  \n",
              "74                         Dietary risks      3        74.0  \n",
              "75                         Dietary risks      3        75.0  \n",
              "76                         Dietary risks      3        76.0  \n",
              "77                         Dietary risks      3        77.0  \n",
              "78                      Behavioral risks      2        78.0  \n",
              "79                      Behavioral risks      2        79.0  \n",
              "80   Childhood sexual abuse and bullying      3        80.0  \n",
              "81   Childhood sexual abuse and bullying      3        81.0  \n",
              "82                      Behavioral risks      2        82.0  \n",
              "83                      Behavioral risks      2        83.0  "
            ]
          },
          "execution_count": 96,
          "metadata": {},
          "output_type": "execute_result"
        }
      ],
      "source": [
        "behavioral_risks"
      ]
    },
    {
      "cell_type": "code",
      "execution_count": null,
      "metadata": {
        "id": "bSHxw199pBey",
        "outputId": "f0c387ea-dffc-4771-b039-a7b2c8f0e3f3"
      },
      "outputs": [
        {
          "data": {
            "text/html": [
              "<div>\n",
              "<style scoped>\n",
              "    .dataframe tbody tr th:only-of-type {\n",
              "        vertical-align: middle;\n",
              "    }\n",
              "\n",
              "    .dataframe tbody tr th {\n",
              "        vertical-align: top;\n",
              "    }\n",
              "\n",
              "    .dataframe thead th {\n",
              "        text-align: right;\n",
              "    }\n",
              "</style>\n",
              "<table border=\"1\" class=\"dataframe\">\n",
              "  <thead>\n",
              "    <tr style=\"text-align: right;\">\n",
              "      <th></th>\n",
              "      <th>rei_id</th>\n",
              "      <th>rei_name</th>\n",
              "      <th>parent_id</th>\n",
              "      <th>parent_name</th>\n",
              "      <th>level</th>\n",
              "      <th>sort_order</th>\n",
              "    </tr>\n",
              "  </thead>\n",
              "  <tbody>\n",
              "    <tr>\n",
              "      <th>17</th>\n",
              "      <td>337</td>\n",
              "      <td>High temperature</td>\n",
              "      <td>331</td>\n",
              "      <td>Non-optimal temperature</td>\n",
              "      <td>3</td>\n",
              "      <td>18.0</td>\n",
              "    </tr>\n",
              "    <tr>\n",
              "      <th>84</th>\n",
              "      <td>105</td>\n",
              "      <td>High fasting plasma glucose</td>\n",
              "      <td>104</td>\n",
              "      <td>Metabolic risks</td>\n",
              "      <td>2</td>\n",
              "      <td>84.0</td>\n",
              "    </tr>\n",
              "    <tr>\n",
              "      <th>85</th>\n",
              "      <td>367</td>\n",
              "      <td>High LDL cholesterol</td>\n",
              "      <td>104</td>\n",
              "      <td>Metabolic risks</td>\n",
              "      <td>2</td>\n",
              "      <td>85.0</td>\n",
              "    </tr>\n",
              "    <tr>\n",
              "      <th>86</th>\n",
              "      <td>107</td>\n",
              "      <td>High systolic blood pressure</td>\n",
              "      <td>104</td>\n",
              "      <td>Metabolic risks</td>\n",
              "      <td>2</td>\n",
              "      <td>86.0</td>\n",
              "    </tr>\n",
              "    <tr>\n",
              "      <th>87</th>\n",
              "      <td>108</td>\n",
              "      <td>High body-mass index</td>\n",
              "      <td>104</td>\n",
              "      <td>Metabolic risks</td>\n",
              "      <td>2</td>\n",
              "      <td>87.0</td>\n",
              "    </tr>\n",
              "  </tbody>\n",
              "</table>\n",
              "</div>"
            ],
            "text/plain": [
              "    rei_id                      rei_name  parent_id              parent_name  \\\n",
              "17     337              High temperature        331  Non-optimal temperature   \n",
              "84     105   High fasting plasma glucose        104          Metabolic risks   \n",
              "85     367          High LDL cholesterol        104          Metabolic risks   \n",
              "86     107  High systolic blood pressure        104          Metabolic risks   \n",
              "87     108          High body-mass index        104          Metabolic risks   \n",
              "\n",
              "    level  sort_order  \n",
              "17      3        18.0  \n",
              "84      2        84.0  \n",
              "85      2        85.0  \n",
              "86      2        86.0  \n",
              "87      2        87.0  "
            ]
          },
          "execution_count": 14,
          "metadata": {},
          "output_type": "execute_result"
        }
      ],
      "source": [
        "risks_ierarchy[risks_ierarchy.rei_name.str.contains('High')]"
      ]
    },
    {
      "cell_type": "code",
      "execution_count": null,
      "metadata": {
        "id": "7rPf-lYNpBez"
      },
      "outputs": [],
      "source": [
        "risks_manageable = [\n",
        "    'Alcohol use',\n",
        "    'Drug use',\n",
        "    'Smoking',\n",
        "    'Secondhand smoke',\n",
        "    'Chewing tobacco',\n",
        "    'Unsafe sex',\n",
        "    'Low physical activity',\n",
        "    'High fasting plasma glucose',\n",
        "    'High LDL cholesterol',\n",
        "    'High systolic blood pressure',\n",
        "    'High body-mass index',\n",
        "    'Diet high in processed meat',\n",
        "    'Diet high in red meat',\n",
        "    'Diet high in sodium',\n",
        "    'Diet high in sugar-sweetened beverages',\n",
        "    'Diet high in trans fatty acids',\n",
        "    'Diet low in calcium',\n",
        "    'Diet low in fiber',\n",
        "    'Diet low in fruits',\n",
        "    'Diet low in legumes',\n",
        "    'Diet low in milk',\n",
        "    'Diet low in nuts and seeds',\n",
        "    'Diet low in polyunsaturated fatty acids',\n",
        "    'Diet low in seafood omega-3 fatty acids',\n",
        "    'Diet low in vegetables',\n",
        "    'Diet low in whole grains',    \n",
        "]"
      ]
    },
    {
      "cell_type": "code",
      "execution_count": null,
      "metadata": {
        "id": "ncpl-boxpBez",
        "outputId": "fcc61550-7817-4698-f824-72bde04c15cf"
      },
      "outputs": [
        {
          "data": {
            "text/plain": [
              "26"
            ]
          },
          "execution_count": 98,
          "metadata": {},
          "output_type": "execute_result"
        }
      ],
      "source": [
        "len(risks_manageable)"
      ]
    },
    {
      "cell_type": "code",
      "execution_count": null,
      "metadata": {
        "id": "dkfVsLSTpBez"
      },
      "outputs": [],
      "source": [
        "pd.Series(risks_manageable).to_csv(\n",
        "    os.path.join(\n",
        "        'data',\n",
        "        'population_causes_risks_preprocessed',\n",
        "        'risks_names_manageable.csv'\n",
        "    ),\n",
        "    index=False\n",
        ")"
      ]
    },
    {
      "cell_type": "code",
      "execution_count": null,
      "metadata": {
        "id": "3SpThe2_pBe0"
      },
      "outputs": [],
      "source": [
        "map_rei_id_to_rei_parent_id = {k:v for k,v in risks_ierarchy[['rei_id', 'parent_id']].values}\n",
        "map_cause_id_to_cause_parent_id = {k:v for k,v in causes_ierarchy[['cause_id', 'parent_id']].values}"
      ]
    },
    {
      "cell_type": "code",
      "execution_count": null,
      "metadata": {
        "id": "6C3oQdN7pBe0"
      },
      "outputs": [],
      "source": [
        "pd.Series(map_rei_id_to_rei_parent_id).to_csv(\n",
        "    os.path.join(\n",
        "        'data',\n",
        "        'population_causes_risks_preprocessed',\n",
        "        'map_rei_id_to_rei_parent_id.csv'\n",
        "    ),\n",
        ")\n",
        "\n",
        "pd.Series(map_cause_id_to_cause_parent_id).to_csv(\n",
        "    os.path.join(\n",
        "        'data',\n",
        "        'population_causes_risks_preprocessed',\n",
        "        'map_cause_id_to_cause_parent_id.csv'\n",
        "    ),\n",
        ")"
      ]
    },
    {
      "cell_type": "markdown",
      "metadata": {
        "id": "K-5sAECXpBe0"
      },
      "source": [
        "## Save preprocessed data"
      ]
    },
    {
      "cell_type": "code",
      "execution_count": null,
      "metadata": {
        "id": "K52dGGTzpBe0"
      },
      "outputs": [],
      "source": [
        "preprocessed_path = os.path.join('data', 'data_preprocessed')"
      ]
    },
    {
      "cell_type": "code",
      "execution_count": null,
      "metadata": {
        "id": "2pHNbZ5WpBe0"
      },
      "outputs": [],
      "source": [
        "population.to_csv(\n",
        "    os.path.join(\n",
        "        preprocessed_path,\n",
        "        'population.csv'\n",
        "    ),\n",
        "    index=False\n",
        ")"
      ]
    },
    {
      "cell_type": "code",
      "execution_count": null,
      "metadata": {
        "id": "N9GerP9DpBe0"
      },
      "outputs": [],
      "source": [
        "causes_all_countries_2019_preprocessed.to_csv(\n",
        "    os.path.join(\n",
        "        preprocessed_path,\n",
        "        'causes.csv'\n",
        "    ),\n",
        "    index=False\n",
        ")"
      ]
    },
    {
      "cell_type": "code",
      "execution_count": null,
      "metadata": {
        "id": "BmZtI2_opBe1"
      },
      "outputs": [],
      "source": [
        "filled_risk_factors.to_csv(\n",
        "    os.path.join(\n",
        "        preprocessed_path,\n",
        "        'risk_factors.csv'\n",
        "    ),\n",
        "    index=False\n",
        ")"
      ]
    },
    {
      "cell_type": "code",
      "execution_count": null,
      "metadata": {
        "id": "8pgHR8RYpBe1"
      },
      "outputs": [],
      "source": [
        "life_expectancy.to_csv(\n",
        "        os.path.join(\n",
        "        preprocessed_path,\n",
        "        'life_expectancy.csv'\n",
        "    ),\n",
        "    index=False\n",
        ")"
      ]
    }
  ],
  "metadata": {
    "kernelspec": {
      "display_name": "Python 3.10.6 64-bit",
      "language": "python",
      "name": "python3"
    },
    "language_info": {
      "codemirror_mode": {
        "name": "ipython",
        "version": 3
      },
      "file_extension": ".py",
      "mimetype": "text/x-python",
      "name": "python",
      "nbconvert_exporter": "python",
      "pygments_lexer": "ipython3",
      "version": "3.10.6"
    },
    "orig_nbformat": 4,
    "vscode": {
      "interpreter": {
        "hash": "fb20f97dc0d0bf49c16efbd899b4466aee76c88e67c56ec484157e058d7c5f03"
      }
    },
    "colab": {
      "provenance": [],
      "toc_visible": true,
      "include_colab_link": true
    }
  },
  "nbformat": 4,
  "nbformat_minor": 0
}